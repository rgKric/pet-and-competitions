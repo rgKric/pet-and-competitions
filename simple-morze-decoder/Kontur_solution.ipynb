{
 "cells": [
  {
   "cell_type": "code",
   "execution_count": null,
   "metadata": {},
   "outputs": [],
   "source": [
    "# для jupyter\n",
    "!pip install -r requirements.txt"
   ]
  },
  {
   "cell_type": "markdown",
   "metadata": {
    "id": "s5qIUb7WxEzv"
   },
   "source": [
    "## Подгрузка файлов для проверки (**ОБЯЗАТЕЛЬНО ЗАПУСТИТЕ**):\n",
    "\n",
    "    1) Веса модели с лучшим качеством\n",
    "    2) Предобработанные тестовые данные и обучающие (если надо)\n",
    "    3) csv файлы, нужны для датасетов"
   ]
  },
  {
   "cell_type": "code",
   "execution_count": 41,
   "metadata": {
    "colab": {
     "base_uri": "https://localhost:8080/",
     "height": 492
    },
    "id": "t-c3BzryQ4tn",
    "outputId": "1f8b2c22-fe34-4bfb-dd16-c9f5983465f2"
   },
   "outputs": [
    {
     "name": "stderr",
     "output_type": "stream",
     "text": [
      "Downloading...\n",
      "From: https://drive.google.com/uc?id=1-8NzgkRcuG653oPPnHEtpRuJmMXh02IZ\n",
      "To: /content/best_model_weights.pth\n",
      "100%|██████████| 2.60M/2.60M [00:00<00:00, 39.5MB/s]\n",
      "Downloading...\n",
      "From (original): https://drive.google.com/uc?id=1-22r4uFsw1pkL9wAVKZZrlQUt8z8v56t\n",
      "From (redirected): https://drive.google.com/uc?id=1-22r4uFsw1pkL9wAVKZZrlQUt8z8v56t&confirm=t&uuid=919a0555-9ce8-483e-a331-bdd8d77495b7\n",
      "To: /content/test_first_part.npy\n",
      "100%|██████████| 120M/120M [00:01<00:00, 62.2MB/s]\n",
      "Downloading...\n",
      "From: https://drive.google.com/uc?id=1wpkBWLGvjFLgiX1-MAie9YwoQGT3XKit\n",
      "To: /content/test_last_part.npy\n",
      "100%|██████████| 2.45M/2.45M [00:00<00:00, 64.0MB/s]\n",
      "Downloading...\n",
      "From: https://drive.google.com/uc?id=1zz3-r4TIj6dVV00bwy6rnD9SlHFEVlCA\n",
      "To: /content/train.csv\n",
      "100%|██████████| 838k/838k [00:00<00:00, 16.2MB/s]\n",
      "Downloading...\n",
      "From: https://drive.google.com/uc?id=1BEbyby93t0LvGO1HlkFl5so9jLoWoD8y\n",
      "To: /content/test.csv\n",
      "100%|██████████| 60.0k/60.0k [00:00<00:00, 3.74MB/s]\n",
      "Downloading...\n",
      "From: https://drive.google.com/uc?id=1HdF0CfqPBFWuaNM4obpTnHEgADgk0XV1\n",
      "To: /content/sub_kaggle.csv\n",
      "100%|██████████| 137k/137k [00:00<00:00, 9.78MB/s]\n"
     ]
    },
    {
     "data": {
      "application/vnd.google.colaboratory.intrinsic+json": {
       "type": "string"
      },
      "text/plain": [
       "'sub_kaggle.csv'"
      ]
     },
     "execution_count": 41,
     "metadata": {},
     "output_type": "execute_result"
    }
   ],
   "source": [
    "import gdown\n",
    "\n",
    "# веса\n",
    "weights_id = '1-8NzgkRcuG653oPPnHEtpRuJmMXh02IZ'\n",
    "url_w = f'https://drive.google.com/uc?id={weights_id}'\n",
    "gdown.download(url_w, 'best_model_weights.pth')\n",
    "\n",
    "# тестовая выборка\n",
    "test_id = '1-22r4uFsw1pkL9wAVKZZrlQUt8z8v56t'\n",
    "test_last_part_id = '1wpkBWLGvjFLgiX1-MAie9YwoQGT3XKit'\n",
    "url_test = f'https://drive.google.com/uc?id={test_id}'\n",
    "url_test_last_part = f'https://drive.google.com/uc?id={test_last_part_id}'\n",
    "gdown.download(url_test, 'test_first_part.npy')\n",
    "gdown.download(url_test_last_part, 'test_last_part.npy')\n",
    "\n",
    "# обучающая выборка (раскомментируйте, но там 700 мб)\n",
    "# train_id = '1OHrahleQaITa5FAhpZeaf-JEPLzkEtwz'\n",
    "# url_train = f'https://drive.google.com/uc?id={train_id}'\n",
    "# gdown.download(url_train, 'train.npy')\n",
    "\n",
    "# csv файлы\n",
    "train_csv_id = '1zz3-r4TIj6dVV00bwy6rnD9SlHFEVlCA'\n",
    "test_csv_id = '1BEbyby93t0LvGO1HlkFl5so9jLoWoD8y'\n",
    "url_train_csv = f'https://drive.google.com/uc?id={train_csv_id}'\n",
    "url_test_csv = f'https://drive.google.com/uc?id={test_csv_id}'\n",
    "gdown.download(url_train_csv, 'train.csv')\n",
    "gdown.download(url_test_csv, 'test.csv')\n",
    "\n",
    "# загрузка сабмита с кагла (это я для себя проверил)\n",
    "sub_id = '1HdF0CfqPBFWuaNM4obpTnHEgADgk0XV1'\n",
    "url_sub = f'https://drive.google.com/uc?id={sub_id}'\n",
    "gdown.download(url_sub, 'sub_kaggle.csv')"
   ]
  },
  {
   "cell_type": "markdown",
   "metadata": {
    "id": "5w6nvoLDQO4d"
   },
   "source": [
    "**Перед просмотром кода, прочитайте**\n",
    "\n",
    "Общая концепция описана в ридми, но по ходу скроллинга ноутбука будут пометки почему я делал так, а не иначе, а также попробовал сам найти минусы в решении (надеюсь, меня это не закопает). Для проверки, что я не жулик, в конце последовательно все модули для быстрого теста."
   ]
  },
  {
   "cell_type": "markdown",
   "metadata": {
    "id": "XM_5FteAUwcR"
   },
   "source": [
    "## Загрузка общих библиотек, которые я использовал."
   ]
  },
  {
   "cell_type": "markdown",
   "metadata": {
    "id": "sXN546DAVHBK"
   },
   "source": [
    "Я по привычке не загружал все библиотеки в одной ячейке, **но для проверки теста внизу отдельно собарана выжимка, чтобы не бегать по ноутбуку.**"
   ]
  },
  {
   "cell_type": "code",
   "execution_count": 10,
   "metadata": {
    "id": "DiZD6YbLUtjr"
   },
   "outputs": [],
   "source": [
    "import librosa\n",
    "import os\n",
    "\n",
    "# для рисования\n",
    "import matplotlib.pyplot as plt\n",
    "import seaborn as sns\n",
    "\n",
    "# для подсчета расстояния Левенштейна\n",
    "import nltk\n",
    "\n",
    "import pandas as pd\n",
    "import numpy as np\n",
    "from sklearn.preprocessing import LabelEncoder\n",
    "\n",
    "from tqdm.auto import tqdm\n",
    "\n",
    "\n",
    "train_df = pd.read_csv('train.csv')\n",
    "test_df = pd.read_csv('test.csv')\n",
    "\n",
    "alphabet = ['_', 'А', 'Б', 'В', 'Г', 'Д', 'Е', 'Ж', 'З', 'И', 'Й', 'К', 'Л', 'М', 'Н', 'О', 'П', 'Р', 'С', 'Т', 'У', 'Ф', 'Х', 'Ц', 'Ч', 'Ш', 'Щ', 'Ъ', 'Ы', 'Ь', 'Э', 'Ю', 'Я', '0', '1', '2', '3', '4', '5', '6', '7', '8', '9', ' ', '#']\n",
    "\n",
    "# это для декода\n",
    "le = LabelEncoder().fit(alphabet)"
   ]
  },
  {
   "cell_type": "markdown",
   "metadata": {
    "id": "aFpOY24Xf9bj"
   },
   "source": [
    "## opus to numpy (предобработка). Тут нужны все файлы opus, чтобы повторить, поэтому это просто демонстрация, она не нужна для повтора (ну внутри полезный текст описания)"
   ]
  },
  {
   "cell_type": "markdown",
   "metadata": {
    "id": "O05x1Yk6WDwC"
   },
   "source": [
    "А вот как по мне и корень всех моих бед, в самом начале, но я уже не уверен ни в чем. Мне кажется, что предобаботка могла быть лучше.\n",
    "\n",
    "Сначала конвертируем опус файлы в мелспектрограммы. При этом шаг по времени 64, потому что так мне показалось на глаз лучше видно штрихи и точки.\n",
    "\n",
    "Посмотрев данные, я увидел, что у нас весь сигнал на одной частоте (но это не всегда могло быть так), но я решил брать частоту с максимальной средней амплитудой и +- 3 герц, потому что иногда все же данные дублировались в ближайших частотах + min_max нормализация, чтобы все значения были от 0 до 1. Как итог: массивы размером [6, 1001].\n",
    "\n",
    "Думаю, что можно было сделать лучше, но я не смог грамотно убрать амплитудный шум на используемой частоте (размытие точек на тесте например).\n",
    "\n",
    "Все это дело я сохранил, потому что каждый раз в цикле обучения проделывать такое очень долго."
   ]
  },
  {
   "cell_type": "code",
   "execution_count": null,
   "metadata": {
    "id": "77kjZHsKeaso"
   },
   "outputs": [],
   "source": [
    "def opus_to_np(path):\n",
    "    y, sr = librosa.load(path, sr=8000)\n",
    "    hop_length = 64\n",
    "    S = librosa.feature.melspectrogram(y=y, sr=sr, n_mels=128, hop_length=hop_length)\n",
    "    S_dB = librosa.power_to_db(S, ref=np.max)\n",
    "    return S_dB\n",
    "\n",
    "def mm_norm(arr):\n",
    "    return (arr - np.min(arr))/(np.max(arr) - np.min(arr))"
   ]
  },
  {
   "cell_type": "code",
   "execution_count": null,
   "metadata": {
    "colab": {
     "base_uri": "https://localhost:8080/",
     "height": 49,
     "referenced_widgets": [
      "7e757fe9d66d459aa58f5a571bc899cb",
      "96f1b47ec12a4408bde3a686a9ef93e2",
      "ec15b011aa5c4ba8b9115a695a5b7229",
      "099f0d95726d4e27827651b9ddd23673",
      "7fde4e71ffb94fefbb2b725f623bbe5c",
      "e3bcbe6d4efa4c61bb193f246e982008",
      "6bedc3ab95eb41f1809962119fe3d0cf",
      "d11b69827dd547f8a3e97992a51f6926",
      "f993ab976452403ca3c3c6ef039fbd43",
      "9962d80f578e4cc693d7b10db5268344",
      "9c198dae2da849d39a16b99a5dc7a083"
     ]
    },
    "id": "5FXasjkEd6DD",
    "outputId": "7190f04f-5e74-495c-f4f0-e72ef144759a"
   },
   "outputs": [
    {
     "data": {
      "application/vnd.jupyter.widget-view+json": {
       "model_id": "7e757fe9d66d459aa58f5a571bc899cb",
       "version_major": 2,
       "version_minor": 0
      },
      "text/plain": [
       "  0%|          | 0/30000 [00:00<?, ?it/s]"
      ]
     },
     "metadata": {},
     "output_type": "display_data"
    }
   ],
   "source": [
    "S_dB_sclices = []\n",
    "for i in tqdm(range(train_df.shape[0])):\n",
    "    # получаем саму мел-спектрограмму\n",
    "    file_name, _ = train_df.loc[i]\n",
    "    file_path = os.path.join(data_path, file_name)\n",
    "    mel = opus_to_np(file_path)\n",
    "\n",
    "    # обрезаем все вокруг сигнала\n",
    "    mel_slice = mel.copy()\n",
    "    morse_line = np.argmax(mel_slice.mean(axis=1))\n",
    "    line = mel_slice[morse_line - 3: morse_line + 3, :]\n",
    "    S_dB_sclices.append(mm_norm(line))\n",
    "\n",
    "S_dB_sclices = np.stack(S_dB_sclices)\n",
    "np.save('/content/drive/MyDrive/conture/morse_data/morse_dataset/mels_sliced_64hop.npy', S_dB_sclices)"
   ]
  },
  {
   "cell_type": "code",
   "execution_count": null,
   "metadata": {
    "id": "OkUdxcsG4ZW1"
   },
   "outputs": [],
   "source": [
    "S_dB_sclices = []\n",
    "for i in tqdm(range(test_df.shape[0])):\n",
    "    # получаем саму мел-спектрограмму\n",
    "    file_name = test_df['id'][i]\n",
    "    file_path = os.path.join(data_path, file_name)\n",
    "    mel = opus_to_np(file_path)\n",
    "\n",
    "    # обрезаем все вокруг сигнала\n",
    "    mel_slice = mel.copy()\n",
    "    morse_line = np.argmax(mel_slice.mean(axis=1))\n",
    "    line = mel_slice[morse_line - 3: morse_line + 3, :]\n",
    "    S_dB_sclices.append(mm_norm(line))\n",
    "\n",
    "S_dB_sclices_main = np.stack(S_dB_sclices[:-17])\n",
    "S_dB_sclices_last_part = np.stack(S_dB_sclices[-17:])\n",
    "np.save('/content/drive/MyDrive/conture/morse_data/morse_dataset/test_mels_sliced_64hop.npy', S_dB_sclices_main)\n",
    "np.save('/content/drive/MyDrive/conture/morse_data/morse_dataset/test_last_part_mels_sliced_64hop.npy', S_dB_sclices_last_part)"
   ]
  },
  {
   "cell_type": "markdown",
   "metadata": {
    "id": "yLqWBva2B8Xn"
   },
   "source": [
    "## Датасет"
   ]
  },
  {
   "cell_type": "markdown",
   "metadata": {
    "id": "2RaP6YOzX5JB"
   },
   "source": [
    "Тут все просто. Единственное, нужно было поменять collate на другую функцию, потому что обычный stack из даталоадера мне не даст нормально загружать таргеты в ctc loss"
   ]
  },
  {
   "cell_type": "code",
   "execution_count": 12,
   "metadata": {
    "id": "kRmpXtgXB_-A"
   },
   "outputs": [],
   "source": [
    "from torch.utils.data import DataLoader, Dataset\n",
    "from torch import from_numpy\n",
    "import torch\n",
    "import torch.nn.functional as F\n",
    "import torch.nn as nn\n",
    "from torch.utils.data import random_split\n",
    "from torch.optim import Adam\n",
    "\n",
    "\n",
    "class MorseDataset(Dataset):\n",
    "    def __init__(self, mels, df, encoder, test=False):\n",
    "        self.mels = mels\n",
    "        self.df = df\n",
    "        self.encoder = encoder\n",
    "        self.test = test\n",
    "\n",
    "    def __len__(self):\n",
    "        return self.df.shape[0]\n",
    "\n",
    "    def __getitem__(self, idx):\n",
    "        if self.test:\n",
    "            return from_numpy(self.mels[idx])\n",
    "        _, label = self.df.loc[idx]\n",
    "        encoded_label = self.encoder.transform([i for i in label])\n",
    "        return from_numpy(self.mels[idx]), encoded_label\n",
    "\n",
    "# тк разные длины у таргета, то stack внутри DataLoader не подходит\n",
    "def collate(batch):\n",
    "    inputs, targets = zip(*batch)\n",
    "\n",
    "    inputs = torch.stack(inputs)\n",
    "\n",
    "    flat_targets = torch.tensor(np.concatenate(targets), dtype=torch.long)\n",
    "    target_lengths = torch.tensor([len(seq) for seq in targets], dtype=torch.long)\n",
    "\n",
    "    return inputs, flat_targets, target_lengths"
   ]
  },
  {
   "cell_type": "markdown",
   "metadata": {
    "id": "EF6aFKrTm55B"
   },
   "source": [
    "Это если нужно будет обучение повторить (но идеально оно не повторится, так как я не фиксировал seed на торче для даталодеров, поэтому перемешивание рандомное)"
   ]
  },
  {
   "cell_type": "code",
   "execution_count": 11,
   "metadata": {
    "id": "wtBdYtaDt_Nl"
   },
   "outputs": [],
   "source": [
    "mels = np.load('train.npy')"
   ]
  },
  {
   "cell_type": "code",
   "execution_count": 13,
   "metadata": {
    "id": "KzpnPPxLT2LR"
   },
   "outputs": [],
   "source": [
    "full_dataset = MorseDataset(mels, train_df, le)\n",
    "\n",
    "# Тут я у меня 3 даталоадера - train/val для прогонов, а full - для отправки,\n",
    "# потому что сначала нужно было динамику модели посмотреть и отлавливать переобучение\n",
    "\n",
    "# Сид зафиксировал, чтобы воиспрозводить выборку, если будет нужно.\n",
    "# Этого недостаточно, чтобы полностью повторить обучение (потому что в cuda свои ньюансы),\n",
    "# но так я сравнивал разные варианты модели\n",
    "gen = torch.Generator().manual_seed(42)\n",
    "train_dataset, val_dataset = random_split(full_dataset, [0.95, 0.05], generator=gen)\n",
    "\n",
    "train_dataloader = DataLoader(train_dataset,\n",
    "                              batch_size= 64,\n",
    "                              shuffle=True,\n",
    "                              num_workers=0,\n",
    "                              collate_fn=collate)\n",
    "val_dataloader = DataLoader(val_dataset,\n",
    "                            batch_size= 64,\n",
    "                            shuffle=False,\n",
    "                            num_workers=0,\n",
    "                            collate_fn=collate)\n",
    "\n",
    "full_dataloader = DataLoader(full_dataset,\n",
    "                             batch_size= 64,\n",
    "                             shuffle=True,\n",
    "                             num_workers=0,\n",
    "                             collate_fn=collate)\n",
    "\n",
    "\n",
    "# в итоге размерность инпута - 64, 6, 1001\n",
    "# таргеты схлопнуты в 1d тензор + собираем длины, потому что ctc loss требует длины входов"
   ]
  },
  {
   "cell_type": "markdown",
   "metadata": {
    "id": "3vp6LSKj9wzJ"
   },
   "source": [
    "## Модельки"
   ]
  },
  {
   "cell_type": "markdown",
   "metadata": {
    "id": "xIPRsDEXY-a9"
   },
   "source": [
    "А вот тут уже что-то интересное. Я нашел бейзлайн через свертки и рекурентные слои, и в целом норм идея, но сама реализация была странной, потому что данные были очень чистые в примере.\n",
    "\n",
    "**Далее логика построения кастома (напомню, вход модели [6, 1001]):**\n",
    "\n",
    "Основная идея в том, чтобы сжать данные до приемлемого размера (~100-200) до входа в rnn, потому что я не пользуюсь здесь вниманием (attention), да и ctc loss на такой разнице в длине таргета и истинных значениях хорош, как я прочитал.\n",
    "\n",
    "Сначала я перевел все дело из 2d в 1d. Возможно, стоило это делать не в один слой, но мне понравилась концепция.\n",
    "\n",
    "Первой ошибкой было делать просто сжатие свертками, а не maxpool (вместо этого, я сжимал свертками) и даже не ставить никакие нормализации батчей и дропауты, потому что задача выглядит с точки зрения выделения фичей простой. Однако потом, в ласт версии, я их добавил, потому что ошибался.\n",
    "\n",
    "В целом такая логика везде прослеживается. Сжимаем и передаем в rnn, но это не очень хорошие результаты дает (~0.55 на тесте) и переобучается.\n",
    "\n",
    "Четвертый вариант (V4) включает в себя батч нормы после первой свертки и после последней экстракции. Теперь первый conv_pool слой я заменил на обычный пулинг, потому что размеры точек и тире позволяют такое сделать почти не потеряв данных. Плюс добавились свертки, которые не меняют размерности, по сути делают экстракцию и переразмер по количеству каналов. + Добавил дропаут в rnn, чтобы оно не так быстро переобучалось.\n",
    "\n",
    "**В конце этого раздела еще одна пометка.**"
   ]
  },
  {
   "cell_type": "code",
   "execution_count": null,
   "metadata": {
    "id": "atxp-r7OuMh-"
   },
   "outputs": [],
   "source": [
    "# ТО, С ЧЕГО Я НАЧАЛ. да, 1 rnn слой...\n",
    "import torch.nn.functional as F\n",
    "import torch.nn as nn\n",
    "\n",
    "class MorseDecoder(nn.Module):\n",
    "    def __init__(self, alphabet_len=45):\n",
    "        super(MorseDecoder, self).__init__()\n",
    "        self.conv1 = nn.Conv2d(1, 64, kernel_size=6, stride=1)\n",
    "        self.conv_pool1 = nn.Conv1d(64, 128, kernel_size=5, stride=3, padding=2)\n",
    "        self.conv_pool2 = nn.Conv1d(128, 128, kernel_size=5, stride=3, padding=2)\n",
    "        self.rnn = nn.GRU(128, 256, num_layers=1, batch_first=True, bidirectional=True)\n",
    "        self.cls = nn.Linear(512, alphabet_len)\n",
    "\n",
    "    def forward(self, x):\n",
    "        # добавляем каналы -> N, 1, 6, 1001\n",
    "        x = x.unsqueeze(1)\n",
    "        # свертка на всю высоту\n",
    "        x = F.relu(self.conv1(x))\n",
    "        # удаляем размерность высоты, потому что схлопнули до 1\n",
    "        x = x.squeeze(dim=(1, 2))\n",
    "        # теперь сжимаем все это дело\n",
    "        x = F.relu(self.conv_pool1(x))\n",
    "        x = F.relu(self.conv_pool2(x))\n",
    "        # подали в rnn\n",
    "        x = x.permute(0, 2, 1) # N, 64, 1, L - > N, L, 64\n",
    "        x, _ = self.rnn(x)\n",
    "        x = self.cls(x)\n",
    "        preds = F.log_softmax(x, -1)\n",
    "        return preds\n",
    "\n",
    "model = MorseDecoder()\n",
    "total_params = sum(p.numel() for p in model.parameters())\n",
    "print(f\"Общее количество параметров: {total_params}\")"
   ]
  },
  {
   "cell_type": "code",
   "execution_count": null,
   "metadata": {
    "id": "aR92gWMm7G9D"
   },
   "outputs": [],
   "source": [
    "class MorseDecoderV3(nn.Module):\n",
    "    def __init__(self, alphabet_len=45):\n",
    "        super(MorseDecoderV3, self).__init__()\n",
    "        self.conv_pool1 = nn.Conv1d(1, 64, kernel_size=5, stride=3, padding=2)\n",
    "        self.conv_extr = nn.Conv1d(64, 128, kernel_size=5, stride=1, padding=1)\n",
    "        self.conv_pool2 = nn.Conv1d(128, 128, kernel_size=3, stride=2, padding=1)\n",
    "        self.rnn = nn.GRU(128, 128, num_layers=2, batch_first=True, bidirectional=True)\n",
    "        self.cls = nn.Linear(256, alphabet_len)\n",
    "\n",
    "    def forward(self, x):\n",
    "        # сжатие -> экстракция -> сжатие\n",
    "        x = F.relu(self.conv_pool1(x))\n",
    "        x = F.relu(self.conv_extr(x))\n",
    "        x = F.relu(self.conv_pool2(x))\n",
    "        # подали в rnn\n",
    "        x = x.permute(0, 2, 1) # N, 64, 1, L - > N, L, 64\n",
    "        x, _ = self.rnn(x)\n",
    "        x = self.cls(x)\n",
    "        preds = F.log_softmax(x, -1)\n",
    "        return preds\n",
    "\n",
    "model = MorseDecoderV3()\n",
    "\n",
    "total_params = sum(p.numel() for p in model.parameters())\n",
    "print(f\"Общее количество параметров: {total_params}\")"
   ]
  },
  {
   "cell_type": "markdown",
   "metadata": {
    "id": "jKboplGG77fC"
   },
   "source": [
    "Когда я все это заполнял, я увидел, что батчнорм поставлен перед активацией...ошибка"
   ]
  },
  {
   "cell_type": "code",
   "execution_count": 14,
   "metadata": {
    "colab": {
     "base_uri": "https://localhost:8080/"
    },
    "id": "GKoYOoobUT0G",
    "outputId": "3d3a984d-3d1a-4f85-c6fd-51f0a1c897a8"
   },
   "outputs": [
    {
     "name": "stdout",
     "output_type": "stream",
     "text": [
      "Общее количество параметров: 648557\n"
     ]
    }
   ],
   "source": [
    "# МОДЕЛЬ С НАИЛУЧШИМ РЕЗУЛЬТАТОМ\n",
    "\n",
    "import torch.nn.functional as F\n",
    "import torch.nn as nn\n",
    "\n",
    "\n",
    "class MorseDecoderV4(nn.Module):\n",
    "    def __init__(self, alphabet_len=45):\n",
    "        super(MorseDecoderV4, self).__init__()\n",
    "        self.conv_extr0 = nn.Conv2d(1, 64, kernel_size=6, stride=1)\n",
    "        self.bn0 = nn.BatchNorm1d(64)\n",
    "        self.pool0 = nn.MaxPool1d(3)\n",
    "        self.conv_extr = nn.Conv1d(64, 128, kernel_size=5, stride=1, padding=1)\n",
    "        self.conv_pool2 = nn.Conv1d(128, 128, kernel_size=3, stride=2, padding=1)\n",
    "        self.conv_extr2 = nn.Conv1d(128, 128, kernel_size=3, stride=1)\n",
    "        self.bn2 = nn.BatchNorm1d(128)\n",
    "        self.rnn = nn.GRU(128, 128, num_layers=2, batch_first=True, bidirectional=True, dropout=0.1)\n",
    "        self.cls = nn.Linear(256, alphabet_len)\n",
    "\n",
    "    def forward(self, x):\n",
    "        x = x.unsqueeze(1)\n",
    "        # экстракция -> удаление оси + норма -> сжатие -> экстракция -> сжатие -> экстракция + норма\n",
    "        x = self.conv_extr0(x)\n",
    "        x = x.squeeze(dim=2)\n",
    "        x = self.pool0(F.relu(self.bn0(x)))\n",
    "        x = F.relu(self.conv_extr(x))\n",
    "        x = F.relu(self.conv_pool2(x))\n",
    "        x = F.relu(self.bn2(self.conv_extr2(x)))\n",
    "        # подали в rnn\n",
    "        x = x.permute(0, 2, 1) # N, 64, 1, L - > N, L, 64\n",
    "        x, _ = self.rnn(x)\n",
    "        x = self.cls(x)\n",
    "        preds = F.log_softmax(x, -1)\n",
    "        return preds\n",
    "\n",
    "model = MorseDecoderV4()\n",
    "\n",
    "total_params = sum(p.numel() for p in model.parameters())\n",
    "print(f\"Общее количество параметров: {total_params}\")"
   ]
  },
  {
   "cell_type": "code",
   "execution_count": 15,
   "metadata": {
    "colab": {
     "base_uri": "https://localhost:8080/"
    },
    "id": "heNjtzhg4zVX",
    "outputId": "3aa77651-6166-4cc3-ddc6-3df4344867ab"
   },
   "outputs": [
    {
     "data": {
      "text/plain": [
       "MorseDecoderV4(\n",
       "  (conv_extr0): Conv2d(1, 64, kernel_size=(6, 6), stride=(1, 1))\n",
       "  (bn0): BatchNorm1d(64, eps=1e-05, momentum=0.1, affine=True, track_running_stats=True)\n",
       "  (pool0): MaxPool1d(kernel_size=3, stride=3, padding=0, dilation=1, ceil_mode=False)\n",
       "  (conv_extr): Conv1d(64, 128, kernel_size=(5,), stride=(1,), padding=(1,))\n",
       "  (conv_pool2): Conv1d(128, 128, kernel_size=(3,), stride=(2,), padding=(1,))\n",
       "  (conv_extr2): Conv1d(128, 128, kernel_size=(3,), stride=(1,))\n",
       "  (bn2): BatchNorm1d(128, eps=1e-05, momentum=0.1, affine=True, track_running_stats=True)\n",
       "  (rnn): GRU(128, 128, num_layers=2, batch_first=True, dropout=0.1, bidirectional=True)\n",
       "  (cls): Linear(in_features=256, out_features=45, bias=True)\n",
       ")"
      ]
     },
     "execution_count": 15,
     "metadata": {},
     "output_type": "execute_result"
    }
   ],
   "source": [
    "model\n"
   ]
  },
  {
   "cell_type": "markdown",
   "metadata": {
    "id": "tmoLpX3Cb48P"
   },
   "source": [
    "Как можно заметить, я обошел стороной трансформеры и внимание. Этому есть объяснение.\n",
    "\n",
    "Обучать трансформер долго и колаб не даст мне использовать гпу столько времени, но это ладно, можно и на датасферу яндекса занести пару тысяч за пару часов на A100. Основной причиной является сложность задачи. Мне кажется, что использовать на такой задаче такие тяжелые методы - это стрелять с танка по комару (даже с учетом, что это соревнование, я поверил, что и без этого смогу в топ забраться). Возможно, стоило добавить внимание (да даже многоголовое), но мне показалось, что тут не нужно \"помнить\" rnn, что было в начале, потому что текст неосмысленный, да и буквы относительно короткие, хотя это могло бы в теори убрать шумы."
   ]
  },
  {
   "cell_type": "markdown",
   "metadata": {
    "id": "l1O4Fj8c2OEk"
   },
   "source": [
    "## Обучение"
   ]
  },
  {
   "cell_type": "markdown",
   "metadata": {
    "id": "uyktI2Q0Xpbz"
   },
   "source": [
    "### utils"
   ]
  },
  {
   "cell_type": "markdown",
   "metadata": {
    "id": "oqEGPi8Rg-2i"
   },
   "source": [
    "В этой ячейке просто написаны декодировщики выходов модели в буквы, они похожие все на задачах с ctc loss. Убираем бланки и повторы."
   ]
  },
  {
   "cell_type": "code",
   "execution_count": null,
   "metadata": {
    "id": "JN1-fKuLFCuB"
   },
   "outputs": [],
   "source": [
    "# декодировка предсказаний\n",
    "def decoder(logits, encoder, blank_index=0): # я не знаю, зачем я бланк отдельно занес в параметры\n",
    "    blank_index = encoder.transform(['_']).item()\n",
    "    predicted_indices = torch.argmax(logits, dim=-1)\n",
    "\n",
    "    decoded_strings = []\n",
    "    for b in range(predicted_indices.size(1)):\n",
    "        indices = predicted_indices[:, b].cpu().detach().numpy()\n",
    "        decoded = []\n",
    "        prev_idx = -1\n",
    "        for idx in indices:\n",
    "            if idx != blank_index and (prev_idx != idx):\n",
    "                decoded.append(encoder.inverse_transform([idx]).item())\n",
    "            prev_idx = idx\n",
    "\n",
    "        decoded_strings.append(''.join(decoded))\n",
    "\n",
    "    return decoded_strings\n",
    "\n",
    "# декодировка таргетов (это, чтобы посмотреть расстояние Левенштейна)\n",
    "def decode_targets(targets, target_lengths, label_encoder):\n",
    "    targets = targets.cpu().detach().numpy()\n",
    "    target_lengths = target_lengths.cpu().detach().numpy()\n",
    "\n",
    "    decoded_strings = []\n",
    "    start_idx = 0\n",
    "    for length in target_lengths:\n",
    "        target = targets[start_idx:start_idx+length]\n",
    "        start_idx += length\n",
    "        decoded = label_encoder.inverse_transform(target)\n",
    "        decoded_strings.append(''.join(decoded))\n",
    "\n",
    "    return decoded_strings"
   ]
  },
  {
   "cell_type": "markdown",
   "metadata": {
    "id": "sR9fuSiBhL6H"
   },
   "source": [
    "Отдельный класс просто для удобства. Тут есть и ранняя остановка обучения и сохранение модели, все можно настроить. Мне такая конструкция нравится, хотя в ней есть свои небольшие минусы (часто много параметров и надо конфиги отдельно делать, но в этом задании я решил их не прописывать). Тут и мониторинг качества на эпохе и лосс, чтобы остановки делать.\n",
    "\n",
    "ЕСТЬ МИНУС. Я не использовал шедулер, потому что в первый раз с ctc loss работал и не понимал, какая у него динамика (все в пропусках на первых эпохах было открытием), поэтому далее да, я руками останавливал, писал с какой эпохи начинать и менял lr, смотря, как у меня меняется динамика обучения. Такое здесь, мне кажется, можно делать, потому что модель тратит 1 минуту на эпоху и в итоге тонкая настрока занимает где-то минут 30, а шедулер выбирать мне показалось, как пальцем в небо тыкать.\n",
    "\n",
    "Но в итоге, достаточно работать с 1 ячейкой и все само перезапускается с любыми параметрами, классно же."
   ]
  },
  {
   "cell_type": "code",
   "execution_count": null,
   "metadata": {
    "id": "SzvR8anh2RuK"
   },
   "outputs": [],
   "source": [
    "class Trainer:\n",
    "    def __init__(self, model, optimizer, func_loss, n_epochs, device, encoder, model_safe=None):\n",
    "        self.model = model\n",
    "        self.optimizer = optimizer\n",
    "        self.func_loss = func_loss\n",
    "        self.device = device\n",
    "        self.n_epochs = n_epochs\n",
    "        self.encoder = encoder\n",
    "        self.model_safe = model_safe\n",
    "\n",
    "    def train(self, train_loader, val_loader=None, schedule=None, start_epoch=0, save_step=5):\n",
    "        self.model.to(self.device)\n",
    "        train_loss = []\n",
    "        val_loss = []\n",
    "        train_distance = []\n",
    "        val_distance = []\n",
    "\n",
    "        for epoch in range(start_epoch, self.n_epochs + start_epoch):\n",
    "            self.model.train()\n",
    "            epoch_train_loss = 0\n",
    "            epoch_distance = 0\n",
    "\n",
    "            for batch in tqdm(train_loader, desc=f'Epoch: {epoch + 1}'):\n",
    "                mel_specs, targets, tar_lens = batch\n",
    "                mel_specs = mel_specs.to(self.device)\n",
    "                targets = targets.to(self.device)\n",
    "                tar_lens = tar_lens.to(self.device)\n",
    "\n",
    "                self.optimizer.zero_grad()\n",
    "\n",
    "                preds = self.model(mel_specs)\n",
    "\n",
    "                perm_preds = preds.permute(1, 0, 2) # N, L, C -> L, N, C\n",
    "                pred_lens = torch.full(size=(perm_preds.size(1),),\n",
    "                                           fill_value=perm_preds.size(0),\n",
    "                                           dtype=torch.long,\n",
    "                                           device=self.device)\n",
    "                # после всех переразмеров можем и loss посчитать\n",
    "                loss = self.func_loss(perm_preds, targets, pred_lens, tar_lens)\n",
    "                loss.backward()\n",
    "\n",
    "                self.optimizer.step()\n",
    "\n",
    "                # декодируем наше чудо\n",
    "                decoded_preds = decoder(perm_preds, self.encoder) # получаем список строк предсказаний\n",
    "                decoded_targets = decode_targets(targets, tar_lens, self.encoder) # получаем список строк таргетов\n",
    "                epoch_distance += nltk.edit_distance(decoded_preds, decoded_targets) # считаем расстояние\n",
    "                # тут кншн ошибка, что я буду брать для эпохи среднее по средним для loss, но мб это стоило исправить\n",
    "                epoch_train_loss += loss.item()\n",
    "\n",
    "\n",
    "            # считаем среднее расстояние на эпохе и средний от среднего лосс\n",
    "            train_distance.append(epoch_distance / len(train_loader.dataset)) # тут делим на длину датасета, тк считаем отдельно для каждого примера\n",
    "            train_loss.append(epoch_train_loss / len(train_loader))\n",
    "\n",
    "            if val_loader is not None:\n",
    "                epoch_val_loss, epoch_val_distance = self.evaluate(val_loader)\n",
    "                val_loss.append(epoch_val_loss)\n",
    "                val_distance.append(epoch_val_distance)\n",
    "\n",
    "                # выводим наши метрики\n",
    "                print(f\"Training Loss: {train_loss[-1]:.4f}, \"\n",
    "                    f\"Training Dist: {train_distance[-1]:.6f}, \"\n",
    "                    f\"Val loss: {val_loss[-1]:.4f}, \"\n",
    "                    f\"Val Dist: {val_distance[-1]:.6f}\")\n",
    "            else:\n",
    "                # выводим наши метрики без валидации, если ее нет\n",
    "                print(f\"Training Loss: {train_loss[-1]:.4f}, \"\n",
    "                    f\"Training Dist: {train_distance[-1]:.6f}\")\n",
    "\n",
    "            # сохраняем модельку\n",
    "            if (epoch + 1) % save_step == 0:\n",
    "                torch.save(self.model.state_dict(), os.path.join(self.model_safe, f'model_epoch_{epoch + 1}.pth'))\n",
    "\n",
    "        return train_loss, val_loss, train_distance, val_distance\n",
    "\n",
    "    def evaluate(self, val_loader):\n",
    "        self.model.eval()\n",
    "        loss = 0\n",
    "        distance = 0\n",
    "        for batch in tqdm(val_loader):\n",
    "            mel_specs, targets, tar_lens = batch\n",
    "            mel_specs = mel_specs.to(self.device)\n",
    "            targets = targets.to(self.device)\n",
    "            tar_lens = tar_lens.to(self.device)\n",
    "\n",
    "            with torch.no_grad():\n",
    "                preds = self.model(mel_specs)\n",
    "\n",
    "                perm_preds = preds.permute(1, 0, 2) # N, L, C -> L, N, C\n",
    "                pred_lens = torch.full(size=(perm_preds.size(1),),\n",
    "                                            fill_value=perm_preds.size(0),\n",
    "                                            dtype=torch.long,\n",
    "                                            device=self.device)\n",
    "                loss += self.func_loss(perm_preds, targets, pred_lens, tar_lens).item()\n",
    "\n",
    "            decoded_preds = decoder(perm_preds, self.encoder)\n",
    "            decoded_targets = decode_targets(targets, tar_lens, self.encoder)\n",
    "            distance += nltk.edit_distance(decoded_preds, decoded_targets)\n",
    "\n",
    "        return loss/len(val_loader), distance/len(val_loader.dataset)"
   ]
  },
  {
   "cell_type": "markdown",
   "metadata": {
    "id": "6Mf-7gfzXyjO"
   },
   "source": [
    "### обучение всего на свете"
   ]
  },
  {
   "cell_type": "markdown",
   "metadata": {
    "id": "PPmVeFqEiO0K"
   },
   "source": [
    "Сначала я прогонял с валидацией, чтобы примерно понять, где я получаю переобучение.\n",
    "\n",
    "Вот по эпохам, какой был lr:\n",
    "\n",
    "    V4\n",
    "    1) 1-15: 2e-3;\n",
    "    2) 16-20: 5e-4;\n",
    "    3) 21-25: 5e-6;"
   ]
  },
  {
   "cell_type": "markdown",
   "metadata": {
    "id": "oGRWiIEw4uET"
   },
   "source": [
    "Ну я прописал все, чтобы можно было все воспроизвести (вот создание папки)"
   ]
  },
  {
   "cell_type": "code",
   "execution_count": 5,
   "metadata": {
    "id": "GB6soX-24pDJ"
   },
   "outputs": [],
   "source": [
    "!mkdir save_train_val_model"
   ]
  },
  {
   "cell_type": "code",
   "execution_count": null,
   "metadata": {
    "colab": {
     "base_uri": "https://localhost:8080/",
     "height": 796,
     "referenced_widgets": [
      "b4bb2e95596b43ed92f5cff5e8abfe33",
      "47e24e7ed718491fb024730a7fd14a60",
      "9fb453f32da4476cbb4590e7ce764365",
      "59d87cd7ced8430b9319fbac58ac8ffa",
      "c4b5583aa34a4442b735a071763f1f58",
      "56a3dd74d9e94121ab2b2700346650fb",
      "1ab4f595e0b94b9a8df8da5a39afd7aa",
      "d5bb835186e6441aaa8076ff7219087d",
      "1f17e87974934b749f639c44c12e4177",
      "7551c388c0e64996a369993cb591e475",
      "f5c5798b5abe41b8b37274b3880cb4d3",
      "7c383e972729432580c7278077c34479",
      "e0fb5f0c80b34ea39800956980a3d705",
      "cda0524dcd274d23bd9ea922e5307318",
      "e636394d65d847b3b7f56170313e73a1",
      "91a5ef8b0bca4e00821b98be01e6f8e3",
      "07f9fc841c7b49019c7682f8df3d133b",
      "707101f8992449d8948f12f0199a0a0d",
      "8dc933f60f3e485c90f72dbeb61270f6",
      "429faf5fe3fd464fa929e3709b487b4c",
      "4293eda643364e98a07c2c015075ee1b",
      "82316cb74a6049c2b41d98e1b73b76b2",
      "107c2524295f4fa2840674f050c7a0d6",
      "cd9dc3d0cce24316b39b959c388870aa",
      "2a4f24798eed47ef8e0d04d0dded61bd",
      "2881ebdec1b44f859630f5d29b5f4279",
      "9260dd2b2200479db39a52c980349ba1",
      "5247ab2f2b7e4a9f95521652f4d5d161",
      "ef31c6f2dd584606b5dd71b281ef1fb3",
      "ec6b9a576aeb43fb8587a3e26f87f2d6",
      "ac41a1b5a12a41178277acc3c6735857",
      "7dd44080820a49dcb1e43d8873ff32dc",
      "a822a048c297493ba9f8f642bdc3c32e",
      "5f1b66d90a234f269f840479f4f380f2",
      "f0d3278c7a9646c4a8eb6321aa7a5ad4",
      "65566c050ade4b7faf5657f89c0b2681",
      "98c4b38a90cf433ba586331af92c77ca",
      "762b4ce074704dd69c9d28bf977dbe97",
      "c3c2d1ec445842548c50d27813c56a6c",
      "e53f00148ec94f4fba798f2249999d23",
      "f40c9f8413f54eae9749c3fbda36de98",
      "deca36cddf544341bf36b2fc7f831fa1",
      "f9191f401dc54c8ca569af9c6b8f2491",
      "845a83bfc0bf4077afe70af2c370e0b4",
      "e54408e9c538442d80ffb355944b80b5",
      "4ae3f216494842f09a4d302144760dd3",
      "769a91293ca9442595b4ea25e71d6fe7",
      "cb14764460ce47de9f4c6fb42c1b416b",
      "a0f3b09115044dd0998c95d3c62b89ad",
      "5fc4567b1b6a4f6fa0eea0b62a6739b5",
      "9252bace1c894f59802247daa52172aa",
      "8c5112a2a02440a5a3456d89f297dd36",
      "0ec657ac61ad413ead3b50d9112e5711",
      "b43b686ae36b438d9b08ab9b8867d5eb",
      "a91f9efd06da4a1480fca0c72a31b0cb",
      "b2f530ce63104b3cb36e465e9d8c0c0f",
      "119ab3e102d8443bbb31ca3dbb32b105",
      "b33c1bac6fbf4b0f95c08bb2e50693a6",
      "be559396c5124e2eb020acacf126101c",
      "515960fff18c4b6291ad6ddcd6b53b24",
      "5725293e81b446088afd289726a080ba",
      "458bb57eed3544be9ff597717efd8ec4",
      "1ebb9922c26a43f28c85e4d5e0c21a90",
      "449571788f6a4633821a02a5c3bfd760",
      "cb56d9fc8f944562bf4065894d154990",
      "cb0b03ab944241ca880d3e3870c4344f",
      "2d753fdf86fd4645ac1cb8a38d6420c5",
      "0e65152b16f2470aaa99782866d2f0d9",
      "ba2a58869330483786356a64dd736ee9",
      "aa319b6faf014b27ab530808364393ab",
      "86c64363c0ec4b2fb39136873a48b2ca",
      "0466c7bfef8a4b1ba2bf6e86ed08592c",
      "a223bb05a4bb4db7bada68c022952fac",
      "ea0783ed5c2c44fe93d11f9899f39e5c",
      "6f642f99b803402ca825d11421982aa0",
      "8dcf0a31e1144c37a2427cc9069fdb7a",
      "fdafc8096e044335ac2c54c8283b8740",
      "45fef35eb8eb4a34bcee045285c0e20c",
      "65771c1f065240c09f3ecf16ce3a28e2",
      "3b69fa7d0c924957a6315c033312a6db",
      "e629e4dde25245028cb192206770a5d2",
      "899b08f2ccc94636bbe2e2caee300102",
      "bdab99f7cce2476ca0c70a23c1972b79",
      "34b1c420e8fb41579a19c82078d8c749",
      "e7ab1e3718684a3590a3f72c438a10c5",
      "3df1132c611e4c3fb890a80cd56cafe0",
      "152493e8d0f24e66ad237f8df0d40ce4",
      "7e1f70f9a0524b489c6b68e3bd52e7a5",
      "7548e43a430b434e82ed9a86ee9fa507",
      "7c9444474c92465db1c8247161bf8280",
      "1ff12a31c40a41f79b26bcfd25ea2fae",
      "0f3608d9285b46ee91be0cb5e98f602d",
      "ff7265fe5d014736a9de0e8531d65c73",
      "f74071e4c6d04f8e995bcc5849a2ea84",
      "b5b25a22a2964b34b97c9baea8515c9a",
      "ab2c27522a1f4144add716137ef40cab",
      "9983209b1f1f42f894ae800248a55257",
      "87aae252d9214ddeb7ba5757d4c6dd09",
      "46d87b92b26e458e96acbf1544ccb0c0",
      "e59776f8520a4eae8d4c09799eb6a316",
      "bfd4d1e8111d48c2a4a2aaf26026fb90",
      "2615ae00e4714c409d65e4a99201692b",
      "75e7ac3391db4a06b51b4d2b70260bf5",
      "9281e49294274ff7ad9baefad6428da0",
      "e9946e6dc3824b3b816957b29029e59b",
      "caf9a710225d47eeb4156b0cea20f4f8",
      "dcbe31d456714c7fb4129ec79b46c188",
      "e8b538986c7c4b99bf6efa580d0dc55e",
      "0e236b07e5124ee9bebcbf316e858541",
      "37f9880f2cba4aa68da7ace6d6f77988",
      "d539d8cd2da14d67930f8756410b328b",
      "28b57f12d2bd4206875368078cb6f049",
      "1acf106ca67246648e496321065cf914",
      "fe646b9bda204896b9a214ca7cd7d731",
      "5b8943fe674546098786bc17c9e7802b",
      "30a968760bc84d3991b7884d5336a431",
      "db2f56ca87d4477e98d2da9ca935ac11",
      "21f032d5a8b048f0b5893de5508d0d4c",
      "502650faf9d44ca78f4dd4731120ed1c",
      "8c70e6fef98d41ecb8ea657d4b317ed4",
      "3baa83150b0b4512be0c8d1b5c3b05ba"
     ]
    },
    "id": "ehtgYfpMYU0F",
    "outputId": "3461ee6a-58d4-487b-8caf-e15776a642b6"
   },
   "outputs": [
    {
     "data": {
      "application/vnd.jupyter.widget-view+json": {
       "model_id": "b4bb2e95596b43ed92f5cff5e8abfe33",
       "version_major": 2,
       "version_minor": 0
      },
      "text/plain": [
       "Epoch: 21:   0%|          | 0/446 [00:00<?, ?it/s]"
      ]
     },
     "metadata": {},
     "output_type": "display_data"
    },
    {
     "data": {
      "application/vnd.jupyter.widget-view+json": {
       "model_id": "7c383e972729432580c7278077c34479",
       "version_major": 2,
       "version_minor": 0
      },
      "text/plain": [
       "  0%|          | 0/24 [00:00<?, ?it/s]"
      ]
     },
     "metadata": {},
     "output_type": "display_data"
    },
    {
     "name": "stdout",
     "output_type": "stream",
     "text": [
      "Training Loss: 0.0776, Training Dist: 0.137088, Val loss: 0.1367, Val Dist: 0.190667\n"
     ]
    },
    {
     "data": {
      "application/vnd.jupyter.widget-view+json": {
       "model_id": "107c2524295f4fa2840674f050c7a0d6",
       "version_major": 2,
       "version_minor": 0
      },
      "text/plain": [
       "Epoch: 22:   0%|          | 0/446 [00:00<?, ?it/s]"
      ]
     },
     "metadata": {},
     "output_type": "display_data"
    },
    {
     "data": {
      "application/vnd.jupyter.widget-view+json": {
       "model_id": "5f1b66d90a234f269f840479f4f380f2",
       "version_major": 2,
       "version_minor": 0
      },
      "text/plain": [
       "  0%|          | 0/24 [00:00<?, ?it/s]"
      ]
     },
     "metadata": {},
     "output_type": "display_data"
    },
    {
     "name": "stdout",
     "output_type": "stream",
     "text": [
      "Training Loss: 0.0776, Training Dist: 0.137439, Val loss: 0.1371, Val Dist: 0.190000\n"
     ]
    },
    {
     "data": {
      "application/vnd.jupyter.widget-view+json": {
       "model_id": "e54408e9c538442d80ffb355944b80b5",
       "version_major": 2,
       "version_minor": 0
      },
      "text/plain": [
       "Epoch: 23:   0%|          | 0/446 [00:00<?, ?it/s]"
      ]
     },
     "metadata": {},
     "output_type": "display_data"
    },
    {
     "data": {
      "application/vnd.jupyter.widget-view+json": {
       "model_id": "b2f530ce63104b3cb36e465e9d8c0c0f",
       "version_major": 2,
       "version_minor": 0
      },
      "text/plain": [
       "  0%|          | 0/24 [00:00<?, ?it/s]"
      ]
     },
     "metadata": {},
     "output_type": "display_data"
    },
    {
     "name": "stdout",
     "output_type": "stream",
     "text": [
      "Training Loss: 0.0769, Training Dist: 0.135930, Val loss: 0.1369, Val Dist: 0.192000\n"
     ]
    },
    {
     "data": {
      "application/vnd.jupyter.widget-view+json": {
       "model_id": "2d753fdf86fd4645ac1cb8a38d6420c5",
       "version_major": 2,
       "version_minor": 0
      },
      "text/plain": [
       "Epoch: 24:   0%|          | 0/446 [00:00<?, ?it/s]"
      ]
     },
     "metadata": {},
     "output_type": "display_data"
    },
    {
     "data": {
      "application/vnd.jupyter.widget-view+json": {
       "model_id": "45fef35eb8eb4a34bcee045285c0e20c",
       "version_major": 2,
       "version_minor": 0
      },
      "text/plain": [
       "  0%|          | 0/24 [00:00<?, ?it/s]"
      ]
     },
     "metadata": {},
     "output_type": "display_data"
    },
    {
     "name": "stdout",
     "output_type": "stream",
     "text": [
      "Training Loss: 0.0762, Training Dist: 0.136035, Val loss: 0.1369, Val Dist: 0.194667\n"
     ]
    },
    {
     "data": {
      "application/vnd.jupyter.widget-view+json": {
       "model_id": "7548e43a430b434e82ed9a86ee9fa507",
       "version_major": 2,
       "version_minor": 0
      },
      "text/plain": [
       "Epoch: 25:   0%|          | 0/446 [00:00<?, ?it/s]"
      ]
     },
     "metadata": {},
     "output_type": "display_data"
    },
    {
     "data": {
      "application/vnd.jupyter.widget-view+json": {
       "model_id": "e59776f8520a4eae8d4c09799eb6a316",
       "version_major": 2,
       "version_minor": 0
      },
      "text/plain": [
       "  0%|          | 0/24 [00:00<?, ?it/s]"
      ]
     },
     "metadata": {},
     "output_type": "display_data"
    },
    {
     "name": "stdout",
     "output_type": "stream",
     "text": [
      "Training Loss: 0.0763, Training Dist: 0.134561, Val loss: 0.1368, Val Dist: 0.192667\n"
     ]
    },
    {
     "data": {
      "application/vnd.jupyter.widget-view+json": {
       "model_id": "d539d8cd2da14d67930f8756410b328b",
       "version_major": 2,
       "version_minor": 0
      },
      "text/plain": [
       "Epoch: 26:   0%|          | 0/446 [00:00<?, ?it/s]"
      ]
     },
     "metadata": {},
     "output_type": "display_data"
    },
    {
     "ename": "KeyboardInterrupt",
     "evalue": "",
     "output_type": "error",
     "traceback": [
      "\u001b[0;31m---------------------------------------------------------------------------\u001b[0m",
      "\u001b[0;31mKeyboardInterrupt\u001b[0m                         Traceback (most recent call last)",
      "\u001b[0;32m<ipython-input-13-9ec94e58ffb1>\u001b[0m in \u001b[0;36m<cell line: 0>\u001b[0;34m()\u001b[0m\n\u001b[1;32m     22\u001b[0m                   model_safe=save_model_path)\n\u001b[1;32m     23\u001b[0m \u001b[0;34m\u001b[0m\u001b[0m\n\u001b[0;32m---> 24\u001b[0;31m train_loss, val_loss, train_distance, val_distance = trainer.train(train_loader=train_dataloader,\n\u001b[0m\u001b[1;32m     25\u001b[0m                                                                    val_loader=val_dataloader, start_epoch=start_epoch)\n",
      "\u001b[0;32m<ipython-input-8-40073aec9b01>\u001b[0m in \u001b[0;36mtrain\u001b[0;34m(self, train_loader, val_loader, schedule, start_epoch)\u001b[0m\n\u001b[1;32m     43\u001b[0m \u001b[0;34m\u001b[0m\u001b[0m\n\u001b[1;32m     44\u001b[0m                 \u001b[0;31m# декодируем наше чудо\u001b[0m\u001b[0;34m\u001b[0m\u001b[0;34m\u001b[0m\u001b[0m\n\u001b[0;32m---> 45\u001b[0;31m                 \u001b[0mdecoded_preds\u001b[0m \u001b[0;34m=\u001b[0m \u001b[0mdecoder\u001b[0m\u001b[0;34m(\u001b[0m\u001b[0mperm_preds\u001b[0m\u001b[0;34m,\u001b[0m \u001b[0mself\u001b[0m\u001b[0;34m.\u001b[0m\u001b[0mencoder\u001b[0m\u001b[0;34m)\u001b[0m \u001b[0;31m# получаем список строк предсказаний\u001b[0m\u001b[0;34m\u001b[0m\u001b[0;34m\u001b[0m\u001b[0m\n\u001b[0m\u001b[1;32m     46\u001b[0m                 \u001b[0mdecoded_targets\u001b[0m \u001b[0;34m=\u001b[0m \u001b[0mdecode_targets\u001b[0m\u001b[0;34m(\u001b[0m\u001b[0mtargets\u001b[0m\u001b[0;34m,\u001b[0m \u001b[0mtar_lens\u001b[0m\u001b[0;34m,\u001b[0m \u001b[0mself\u001b[0m\u001b[0;34m.\u001b[0m\u001b[0mencoder\u001b[0m\u001b[0;34m)\u001b[0m \u001b[0;31m# получаем список строк таргетов\u001b[0m\u001b[0;34m\u001b[0m\u001b[0;34m\u001b[0m\u001b[0m\n\u001b[1;32m     47\u001b[0m                 \u001b[0mepoch_distance\u001b[0m \u001b[0;34m+=\u001b[0m \u001b[0mnltk\u001b[0m\u001b[0;34m.\u001b[0m\u001b[0medit_distance\u001b[0m\u001b[0;34m(\u001b[0m\u001b[0mdecoded_preds\u001b[0m\u001b[0;34m,\u001b[0m \u001b[0mdecoded_targets\u001b[0m\u001b[0;34m)\u001b[0m \u001b[0;31m# считаем расстояние\u001b[0m\u001b[0;34m\u001b[0m\u001b[0;34m\u001b[0m\u001b[0m\n",
      "\u001b[0;32m<ipython-input-7-287d511d5481>\u001b[0m in \u001b[0;36mdecoder\u001b[0;34m(logits, encoder, blank_index)\u001b[0m\n\u001b[1;32m     11\u001b[0m         \u001b[0;32mfor\u001b[0m \u001b[0midx\u001b[0m \u001b[0;32min\u001b[0m \u001b[0mindices\u001b[0m\u001b[0;34m:\u001b[0m\u001b[0;34m\u001b[0m\u001b[0;34m\u001b[0m\u001b[0m\n\u001b[1;32m     12\u001b[0m             \u001b[0;32mif\u001b[0m \u001b[0midx\u001b[0m \u001b[0;34m!=\u001b[0m \u001b[0mblank_index\u001b[0m \u001b[0;32mand\u001b[0m \u001b[0;34m(\u001b[0m\u001b[0mprev_idx\u001b[0m \u001b[0;34m!=\u001b[0m \u001b[0midx\u001b[0m\u001b[0;34m)\u001b[0m\u001b[0;34m:\u001b[0m\u001b[0;34m\u001b[0m\u001b[0;34m\u001b[0m\u001b[0m\n\u001b[0;32m---> 13\u001b[0;31m                 \u001b[0mdecoded\u001b[0m\u001b[0;34m.\u001b[0m\u001b[0mappend\u001b[0m\u001b[0;34m(\u001b[0m\u001b[0mencoder\u001b[0m\u001b[0;34m.\u001b[0m\u001b[0minverse_transform\u001b[0m\u001b[0;34m(\u001b[0m\u001b[0;34m[\u001b[0m\u001b[0midx\u001b[0m\u001b[0;34m]\u001b[0m\u001b[0;34m)\u001b[0m\u001b[0;34m.\u001b[0m\u001b[0mitem\u001b[0m\u001b[0;34m(\u001b[0m\u001b[0;34m)\u001b[0m\u001b[0;34m)\u001b[0m\u001b[0;34m\u001b[0m\u001b[0;34m\u001b[0m\u001b[0m\n\u001b[0m\u001b[1;32m     14\u001b[0m             \u001b[0mprev_idx\u001b[0m \u001b[0;34m=\u001b[0m \u001b[0midx\u001b[0m\u001b[0;34m\u001b[0m\u001b[0;34m\u001b[0m\u001b[0m\n\u001b[1;32m     15\u001b[0m \u001b[0;34m\u001b[0m\u001b[0m\n",
      "\u001b[0;32m/usr/local/lib/python3.11/dist-packages/sklearn/preprocessing/_label.py\u001b[0m in \u001b[0;36minverse_transform\u001b[0;34m(self, y)\u001b[0m\n\u001b[1;32m    156\u001b[0m         diff = _setdiff1d(\n\u001b[1;32m    157\u001b[0m             \u001b[0mar1\u001b[0m\u001b[0;34m=\u001b[0m\u001b[0my\u001b[0m\u001b[0;34m,\u001b[0m\u001b[0;34m\u001b[0m\u001b[0;34m\u001b[0m\u001b[0m\n\u001b[0;32m--> 158\u001b[0;31m             \u001b[0mar2\u001b[0m\u001b[0;34m=\u001b[0m\u001b[0mxp\u001b[0m\u001b[0;34m.\u001b[0m\u001b[0marange\u001b[0m\u001b[0;34m(\u001b[0m\u001b[0mself\u001b[0m\u001b[0;34m.\u001b[0m\u001b[0mclasses_\u001b[0m\u001b[0;34m.\u001b[0m\u001b[0mshape\u001b[0m\u001b[0;34m[\u001b[0m\u001b[0;36m0\u001b[0m\u001b[0;34m]\u001b[0m\u001b[0;34m,\u001b[0m \u001b[0mdevice\u001b[0m\u001b[0;34m=\u001b[0m\u001b[0mdevice\u001b[0m\u001b[0;34m(\u001b[0m\u001b[0my\u001b[0m\u001b[0;34m)\u001b[0m\u001b[0;34m)\u001b[0m\u001b[0;34m,\u001b[0m\u001b[0;34m\u001b[0m\u001b[0;34m\u001b[0m\u001b[0m\n\u001b[0m\u001b[1;32m    159\u001b[0m             \u001b[0mxp\u001b[0m\u001b[0;34m=\u001b[0m\u001b[0mxp\u001b[0m\u001b[0;34m,\u001b[0m\u001b[0;34m\u001b[0m\u001b[0;34m\u001b[0m\u001b[0m\n\u001b[1;32m    160\u001b[0m         )\n",
      "\u001b[0;32m/usr/local/lib/python3.11/dist-packages/sklearn/utils/_array_api.py\u001b[0m in \u001b[0;36m__getattr__\u001b[0;34m(self, name)\u001b[0m\n\u001b[1;32m    384\u001b[0m         \u001b[0;31m# Support device kwargs and make sure they are on the CPU\u001b[0m\u001b[0;34m\u001b[0m\u001b[0;34m\u001b[0m\u001b[0m\n\u001b[1;32m    385\u001b[0m         \u001b[0;32mif\u001b[0m \u001b[0mname\u001b[0m \u001b[0;32min\u001b[0m \u001b[0mself\u001b[0m\u001b[0;34m.\u001b[0m\u001b[0m_CREATION_FUNCS\u001b[0m\u001b[0;34m:\u001b[0m\u001b[0;34m\u001b[0m\u001b[0;34m\u001b[0m\u001b[0m\n\u001b[0;32m--> 386\u001b[0;31m             \u001b[0;32mreturn\u001b[0m \u001b[0m_accept_device_cpu\u001b[0m\u001b[0;34m(\u001b[0m\u001b[0mattr\u001b[0m\u001b[0;34m)\u001b[0m\u001b[0;34m\u001b[0m\u001b[0;34m\u001b[0m\u001b[0m\n\u001b[0m\u001b[1;32m    387\u001b[0m \u001b[0;34m\u001b[0m\u001b[0m\n\u001b[1;32m    388\u001b[0m         \u001b[0;31m# Convert to dtype objects\u001b[0m\u001b[0;34m\u001b[0m\u001b[0;34m\u001b[0m\u001b[0m\n",
      "\u001b[0;32m/usr/local/lib/python3.11/dist-packages/sklearn/utils/_array_api.py\u001b[0m in \u001b[0;36m_accept_device_cpu\u001b[0;34m(func)\u001b[0m\n\u001b[1;32m    319\u001b[0m \u001b[0;34m\u001b[0m\u001b[0m\n\u001b[1;32m    320\u001b[0m \u001b[0;32mdef\u001b[0m \u001b[0m_accept_device_cpu\u001b[0m\u001b[0;34m(\u001b[0m\u001b[0mfunc\u001b[0m\u001b[0;34m)\u001b[0m\u001b[0;34m:\u001b[0m\u001b[0;34m\u001b[0m\u001b[0;34m\u001b[0m\u001b[0m\n\u001b[0;32m--> 321\u001b[0;31m     \u001b[0;34m@\u001b[0m\u001b[0mwraps\u001b[0m\u001b[0;34m(\u001b[0m\u001b[0mfunc\u001b[0m\u001b[0;34m)\u001b[0m\u001b[0;34m\u001b[0m\u001b[0;34m\u001b[0m\u001b[0m\n\u001b[0m\u001b[1;32m    322\u001b[0m     \u001b[0;32mdef\u001b[0m \u001b[0mwrapped_func\u001b[0m\u001b[0;34m(\u001b[0m\u001b[0;34m*\u001b[0m\u001b[0margs\u001b[0m\u001b[0;34m,\u001b[0m \u001b[0;34m**\u001b[0m\u001b[0mkwargs\u001b[0m\u001b[0;34m)\u001b[0m\u001b[0;34m:\u001b[0m\u001b[0;34m\u001b[0m\u001b[0;34m\u001b[0m\u001b[0m\n\u001b[1;32m    323\u001b[0m         \u001b[0m_check_device_cpu\u001b[0m\u001b[0;34m(\u001b[0m\u001b[0mkwargs\u001b[0m\u001b[0;34m.\u001b[0m\u001b[0mpop\u001b[0m\u001b[0;34m(\u001b[0m\u001b[0;34m\"device\"\u001b[0m\u001b[0;34m,\u001b[0m \u001b[0;32mNone\u001b[0m\u001b[0;34m)\u001b[0m\u001b[0;34m)\u001b[0m\u001b[0;34m\u001b[0m\u001b[0;34m\u001b[0m\u001b[0m\n",
      "\u001b[0;32m/usr/lib/python3.11/functools.py\u001b[0m in \u001b[0;36mupdate_wrapper\u001b[0;34m(wrapper, wrapped, assigned, updated)\u001b[0m\n\u001b[1;32m     50\u001b[0m     \u001b[0;32mfor\u001b[0m \u001b[0mattr\u001b[0m \u001b[0;32min\u001b[0m \u001b[0massigned\u001b[0m\u001b[0;34m:\u001b[0m\u001b[0;34m\u001b[0m\u001b[0;34m\u001b[0m\u001b[0m\n\u001b[1;32m     51\u001b[0m         \u001b[0;32mtry\u001b[0m\u001b[0;34m:\u001b[0m\u001b[0;34m\u001b[0m\u001b[0;34m\u001b[0m\u001b[0m\n\u001b[0;32m---> 52\u001b[0;31m             \u001b[0mvalue\u001b[0m \u001b[0;34m=\u001b[0m \u001b[0mgetattr\u001b[0m\u001b[0;34m(\u001b[0m\u001b[0mwrapped\u001b[0m\u001b[0;34m,\u001b[0m \u001b[0mattr\u001b[0m\u001b[0;34m)\u001b[0m\u001b[0;34m\u001b[0m\u001b[0;34m\u001b[0m\u001b[0m\n\u001b[0m\u001b[1;32m     53\u001b[0m         \u001b[0;32mexcept\u001b[0m \u001b[0mAttributeError\u001b[0m\u001b[0;34m:\u001b[0m\u001b[0;34m\u001b[0m\u001b[0;34m\u001b[0m\u001b[0m\n\u001b[1;32m     54\u001b[0m             \u001b[0;32mpass\u001b[0m\u001b[0;34m\u001b[0m\u001b[0;34m\u001b[0m\u001b[0m\n",
      "\u001b[0;31mKeyboardInterrupt\u001b[0m: "
     ]
    }
   ],
   "source": [
    "# прогон сохраненной (или нет) модели с train/val\n",
    "\n",
    "model = MorseDecoderV4()\n",
    "device = torch.device(\"cuda\" if torch.cuda.is_available() else \"cpu\")\n",
    "\n",
    "start_epoch = 0 # если снова обучать, то с 0\n",
    "save_model_path = 'save_train_val_model'\n",
    "if start_epoch != 0:\n",
    "    model.load_state_dict(torch.load(os.path.join(save_model_path, f'model_epoch_{start_epoch}.pth'), map_location=device))\n",
    "\n",
    "blank_label = le.transform(['_']).item()\n",
    "ctc_loss = nn.CTCLoss(blank=blank_label)\n",
    "optimizer = Adam(model.parameters(), lr=5e-6)\n",
    "n_epochs = 30\n",
    "\n",
    "trainer = Trainer(model,\n",
    "                  optimizer=optimizer,\n",
    "                  func_loss=ctc_loss,\n",
    "                  n_epochs=n_epochs,\n",
    "                  device=device, encoder=le,\n",
    "                  model_safe=save_model_path)\n",
    "\n",
    "train_loss, val_loss, train_distance, val_distance = trainer.train(train_loader=train_dataloader,\n",
    "                                                                   val_loader=val_dataloader, start_epoch=start_epoch)"
   ]
  },
  {
   "cell_type": "markdown",
   "metadata": {
    "id": "Q75pxfCCipek"
   },
   "source": [
    "Да, тут немного другие параметры, а переобучение я уже смотрел просто отправками на кагл. Но иначе я не придумал, только так я могу все данные пронать и посмотреть, где у меня надо остановку делать.\n",
    "\n",
    "lr на полном датасете:\n",
    "\n",
    "    V4 full dataset:\n",
    "    1-10: 2e-3;\n",
    "    11-15: 1e-4;\n",
    "    16-20: 1e-6"
   ]
  },
  {
   "cell_type": "code",
   "execution_count": null,
   "metadata": {
    "id": "KVxuyDyu8T6X"
   },
   "outputs": [],
   "source": [
    "!mkdir save_full_model"
   ]
  },
  {
   "cell_type": "code",
   "execution_count": null,
   "metadata": {
    "colab": {
     "base_uri": "https://localhost:8080/",
     "height": 618,
     "referenced_widgets": [
      "9d205f752514408b824d57ea6f5bf5be",
      "132f52b7688044fbb853d5160b7875a2",
      "b6b2f6cf2bf947cfad01d642ad520d9d",
      "d7a3ba24aea74ef083536a91cf0ae602",
      "bd0798e62dd0437a83adbdead5449898",
      "68fa1a72b2774a85888a3afc96ec2bf4",
      "9523fee9769f48639cf40449623d99a0",
      "c7a8e74d368b4df095cbfec0e9238c84",
      "7459a809d78d4bc78a8179993824584b",
      "cf115d67cb3c459bb68c163d4a55f8d9",
      "f3165c6b93934117b8dc512e31ec1281",
      "302c42a960b44ff5b98f27567ba53a82",
      "6585e20c78ab469cb5570d8422222c6a",
      "56222afd7ab243c7acb29859d6f6390e",
      "8a8df66005984aac80c1349fe899eaaa",
      "1a5830eda561485d8ad47037fe4c7fd1",
      "89e134c45c6744539739f55770fe280f",
      "2b6a74236e4f46fa9f739bd6e9cf11ca",
      "97f7a1876b004275af404eeb7681d2a7",
      "650269f6bd2444369c9ea53255804a6a",
      "cf251891777845999376a7097ed9790a",
      "812e6ff91d534eef9161fd708e03710e",
      "b73c63c1817c4be0ac23cb7b45a44911",
      "e1ec408cae4449a5ad210b751ea80bc8",
      "d4df249527a24cd985fff17299dcd574",
      "4b8ee7b8d827437998973c9ce1a0a713",
      "f0b256873b4f4d25862bd4e6e087281e",
      "ab82365e65664403abea2028f823e9df",
      "ba98ddafdf9649f4a342efee8ce096b1",
      "737b420c26184c1f81a916b337e1592a",
      "a1f32391b20a4fd799413ff9373eff9e",
      "919fe017ac274dfd9a032d03539b0e69",
      "e62a518fbdd64ba2a3d8890516742b21",
      "18883a59bb144076b080d63f46b6f996",
      "0a0ae2ff6eb549be8a17400b662e97d4",
      "1d57668670d149cfa79a08463ea95e71",
      "bff9f090d46743f0b0afd2e6227d78d2",
      "dca430f531aa40d787f4bf42d61d5503",
      "90fb18af462e4d4e95b5181b2d2e1fc8",
      "3dfc3187eaf243a7a114dd6ab105dcd4",
      "2976bf3e6b194c31b5c4244a28ec03bc",
      "804d7efffb724f96b04c8a6e92dc8868",
      "96275db5afac410a829e2fdd8d289c9f",
      "31c6cf01099345f8832daeab377277c6",
      "8ffa9013df4c41d2b344440cc98a5167",
      "f129663b84f247d3bea000bd71bc9901",
      "5ccef1747364419db8a1c6eade6fcb7f",
      "dc111957b4704665b92acccee778a5b1",
      "34d3affd7d55441abedc9ef5851b20a9",
      "2369c9aa55884cf5b4446f7f0d3572a0",
      "fdc54715b4ad41b182bfdd4849798947",
      "62f00b75e3164a7f82965054ac8fdd00",
      "43b0cbdae68246aca247d8f0789e8a9a",
      "c679a5707b864f6895c16e66af657fea",
      "0db6947e0b7a429e86821a1f111f26e8",
      "17191fa912fc4d73accf322d9dbb910d",
      "d4859777d52a47a1b82c9154bdfa8de8",
      "546b1f3e6d924bbbb488ce956b0185d4",
      "571e67943e214d9882bdc734f952434e",
      "ed55ca903aa84aa79839364096856b52",
      "93781077278b4787bd9ffbafe69ae35a",
      "94e0738dcf78446c8b5483967af5cfb0",
      "98f460a6f59b4055ab5970c619e13edd",
      "9e212ea6690d42fbbdc1da540df5c370",
      "d6c0adf6faef4f158d7a138e461bf2ad",
      "d65601df1c7c4494a73c280385cb1b7f"
     ]
    },
    "id": "IoiKyRwZtX3C",
    "outputId": "49253064-5036-453a-dd97-6729ea5443b2"
   },
   "outputs": [
    {
     "data": {
      "application/vnd.jupyter.widget-view+json": {
       "model_id": "9d205f752514408b824d57ea6f5bf5be",
       "version_major": 2,
       "version_minor": 0
      },
      "text/plain": [
       "Epoch: 16:   0%|          | 0/469 [00:00<?, ?it/s]"
      ]
     },
     "metadata": {},
     "output_type": "display_data"
    },
    {
     "name": "stdout",
     "output_type": "stream",
     "text": [
      "Training Loss: 0.0778, Training Dist: 0.135967\n"
     ]
    },
    {
     "data": {
      "application/vnd.jupyter.widget-view+json": {
       "model_id": "302c42a960b44ff5b98f27567ba53a82",
       "version_major": 2,
       "version_minor": 0
      },
      "text/plain": [
       "Epoch: 17:   0%|          | 0/469 [00:00<?, ?it/s]"
      ]
     },
     "metadata": {},
     "output_type": "display_data"
    },
    {
     "name": "stdout",
     "output_type": "stream",
     "text": [
      "Training Loss: 0.0772, Training Dist: 0.133600\n"
     ]
    },
    {
     "data": {
      "application/vnd.jupyter.widget-view+json": {
       "model_id": "b73c63c1817c4be0ac23cb7b45a44911",
       "version_major": 2,
       "version_minor": 0
      },
      "text/plain": [
       "Epoch: 18:   0%|          | 0/469 [00:00<?, ?it/s]"
      ]
     },
     "metadata": {},
     "output_type": "display_data"
    },
    {
     "name": "stdout",
     "output_type": "stream",
     "text": [
      "Training Loss: 0.0771, Training Dist: 0.133700\n"
     ]
    },
    {
     "data": {
      "application/vnd.jupyter.widget-view+json": {
       "model_id": "18883a59bb144076b080d63f46b6f996",
       "version_major": 2,
       "version_minor": 0
      },
      "text/plain": [
       "Epoch: 19:   0%|          | 0/469 [00:00<?, ?it/s]"
      ]
     },
     "metadata": {},
     "output_type": "display_data"
    },
    {
     "name": "stdout",
     "output_type": "stream",
     "text": [
      "Training Loss: 0.0776, Training Dist: 0.136300\n"
     ]
    },
    {
     "data": {
      "application/vnd.jupyter.widget-view+json": {
       "model_id": "8ffa9013df4c41d2b344440cc98a5167",
       "version_major": 2,
       "version_minor": 0
      },
      "text/plain": [
       "Epoch: 20:   0%|          | 0/469 [00:00<?, ?it/s]"
      ]
     },
     "metadata": {},
     "output_type": "display_data"
    },
    {
     "name": "stdout",
     "output_type": "stream",
     "text": [
      "Training Loss: 0.0773, Training Dist: 0.136100\n"
     ]
    },
    {
     "data": {
      "application/vnd.jupyter.widget-view+json": {
       "model_id": "17191fa912fc4d73accf322d9dbb910d",
       "version_major": 2,
       "version_minor": 0
      },
      "text/plain": [
       "Epoch: 21:   0%|          | 0/469 [00:00<?, ?it/s]"
      ]
     },
     "metadata": {},
     "output_type": "display_data"
    },
    {
     "ename": "KeyboardInterrupt",
     "evalue": "",
     "output_type": "error",
     "traceback": [
      "\u001b[0;31m---------------------------------------------------------------------------\u001b[0m",
      "\u001b[0;31mKeyboardInterrupt\u001b[0m                         Traceback (most recent call last)",
      "\u001b[0;32m<ipython-input-26-23a662544f5d>\u001b[0m in \u001b[0;36m<cell line: 0>\u001b[0;34m()\u001b[0m\n\u001b[1;32m     22\u001b[0m                   model_safe=save_model_path)\n\u001b[1;32m     23\u001b[0m \u001b[0;34m\u001b[0m\u001b[0m\n\u001b[0;32m---> 24\u001b[0;31m \u001b[0mtrain_loss\u001b[0m\u001b[0;34m,\u001b[0m \u001b[0mval_loss\u001b[0m\u001b[0;34m,\u001b[0m \u001b[0mtrain_distance\u001b[0m\u001b[0;34m,\u001b[0m \u001b[0mval_distance\u001b[0m \u001b[0;34m=\u001b[0m \u001b[0mtrainer\u001b[0m\u001b[0;34m.\u001b[0m\u001b[0mtrain\u001b[0m\u001b[0;34m(\u001b[0m\u001b[0mtrain_loader\u001b[0m\u001b[0;34m=\u001b[0m\u001b[0mfull_dataloader\u001b[0m\u001b[0;34m,\u001b[0m \u001b[0mstart_epoch\u001b[0m\u001b[0;34m=\u001b[0m\u001b[0mstart_epoch\u001b[0m\u001b[0;34m)\u001b[0m\u001b[0;34m\u001b[0m\u001b[0;34m\u001b[0m\u001b[0m\n\u001b[0m",
      "\u001b[0;32m<ipython-input-8-1456e2a87d9d>\u001b[0m in \u001b[0;36mtrain\u001b[0;34m(self, train_loader, val_loader, schedule, start_epoch, save_step)\u001b[0m\n\u001b[1;32m     43\u001b[0m \u001b[0;34m\u001b[0m\u001b[0m\n\u001b[1;32m     44\u001b[0m                 \u001b[0;31m# декодируем наше чудо\u001b[0m\u001b[0;34m\u001b[0m\u001b[0;34m\u001b[0m\u001b[0m\n\u001b[0;32m---> 45\u001b[0;31m                 \u001b[0mdecoded_preds\u001b[0m \u001b[0;34m=\u001b[0m \u001b[0mdecoder\u001b[0m\u001b[0;34m(\u001b[0m\u001b[0mperm_preds\u001b[0m\u001b[0;34m,\u001b[0m \u001b[0mself\u001b[0m\u001b[0;34m.\u001b[0m\u001b[0mencoder\u001b[0m\u001b[0;34m)\u001b[0m \u001b[0;31m# получаем список строк предсказаний\u001b[0m\u001b[0;34m\u001b[0m\u001b[0;34m\u001b[0m\u001b[0m\n\u001b[0m\u001b[1;32m     46\u001b[0m                 \u001b[0mdecoded_targets\u001b[0m \u001b[0;34m=\u001b[0m \u001b[0mdecode_targets\u001b[0m\u001b[0;34m(\u001b[0m\u001b[0mtargets\u001b[0m\u001b[0;34m,\u001b[0m \u001b[0mtar_lens\u001b[0m\u001b[0;34m,\u001b[0m \u001b[0mself\u001b[0m\u001b[0;34m.\u001b[0m\u001b[0mencoder\u001b[0m\u001b[0;34m)\u001b[0m \u001b[0;31m# получаем список строк таргетов\u001b[0m\u001b[0;34m\u001b[0m\u001b[0;34m\u001b[0m\u001b[0m\n\u001b[1;32m     47\u001b[0m                 \u001b[0mepoch_distance\u001b[0m \u001b[0;34m+=\u001b[0m \u001b[0mnltk\u001b[0m\u001b[0;34m.\u001b[0m\u001b[0medit_distance\u001b[0m\u001b[0;34m(\u001b[0m\u001b[0mdecoded_preds\u001b[0m\u001b[0;34m,\u001b[0m \u001b[0mdecoded_targets\u001b[0m\u001b[0;34m)\u001b[0m \u001b[0;31m# считаем расстояние\u001b[0m\u001b[0;34m\u001b[0m\u001b[0;34m\u001b[0m\u001b[0m\n",
      "\u001b[0;32m<ipython-input-7-287d511d5481>\u001b[0m in \u001b[0;36mdecoder\u001b[0;34m(logits, encoder, blank_index)\u001b[0m\n\u001b[1;32m     11\u001b[0m         \u001b[0;32mfor\u001b[0m \u001b[0midx\u001b[0m \u001b[0;32min\u001b[0m \u001b[0mindices\u001b[0m\u001b[0;34m:\u001b[0m\u001b[0;34m\u001b[0m\u001b[0;34m\u001b[0m\u001b[0m\n\u001b[1;32m     12\u001b[0m             \u001b[0;32mif\u001b[0m \u001b[0midx\u001b[0m \u001b[0;34m!=\u001b[0m \u001b[0mblank_index\u001b[0m \u001b[0;32mand\u001b[0m \u001b[0;34m(\u001b[0m\u001b[0mprev_idx\u001b[0m \u001b[0;34m!=\u001b[0m \u001b[0midx\u001b[0m\u001b[0;34m)\u001b[0m\u001b[0;34m:\u001b[0m\u001b[0;34m\u001b[0m\u001b[0;34m\u001b[0m\u001b[0m\n\u001b[0;32m---> 13\u001b[0;31m                 \u001b[0mdecoded\u001b[0m\u001b[0;34m.\u001b[0m\u001b[0mappend\u001b[0m\u001b[0;34m(\u001b[0m\u001b[0mencoder\u001b[0m\u001b[0;34m.\u001b[0m\u001b[0minverse_transform\u001b[0m\u001b[0;34m(\u001b[0m\u001b[0;34m[\u001b[0m\u001b[0midx\u001b[0m\u001b[0;34m]\u001b[0m\u001b[0;34m)\u001b[0m\u001b[0;34m.\u001b[0m\u001b[0mitem\u001b[0m\u001b[0;34m(\u001b[0m\u001b[0;34m)\u001b[0m\u001b[0;34m)\u001b[0m\u001b[0;34m\u001b[0m\u001b[0;34m\u001b[0m\u001b[0m\n\u001b[0m\u001b[1;32m     14\u001b[0m             \u001b[0mprev_idx\u001b[0m \u001b[0;34m=\u001b[0m \u001b[0midx\u001b[0m\u001b[0;34m\u001b[0m\u001b[0;34m\u001b[0m\u001b[0m\n\u001b[1;32m     15\u001b[0m \u001b[0;34m\u001b[0m\u001b[0m\n",
      "\u001b[0;32m/usr/local/lib/python3.11/dist-packages/sklearn/preprocessing/_label.py\u001b[0m in \u001b[0;36minverse_transform\u001b[0;34m(self, y)\u001b[0m\n\u001b[1;32m    147\u001b[0m             \u001b[0mOriginal\u001b[0m \u001b[0mencoding\u001b[0m\u001b[0;34m.\u001b[0m\u001b[0;34m\u001b[0m\u001b[0;34m\u001b[0m\u001b[0m\n\u001b[1;32m    148\u001b[0m         \"\"\"\n\u001b[0;32m--> 149\u001b[0;31m         \u001b[0mcheck_is_fitted\u001b[0m\u001b[0;34m(\u001b[0m\u001b[0mself\u001b[0m\u001b[0;34m)\u001b[0m\u001b[0;34m\u001b[0m\u001b[0;34m\u001b[0m\u001b[0m\n\u001b[0m\u001b[1;32m    150\u001b[0m         \u001b[0mxp\u001b[0m\u001b[0;34m,\u001b[0m \u001b[0m_\u001b[0m \u001b[0;34m=\u001b[0m \u001b[0mget_namespace\u001b[0m\u001b[0;34m(\u001b[0m\u001b[0my\u001b[0m\u001b[0;34m)\u001b[0m\u001b[0;34m\u001b[0m\u001b[0;34m\u001b[0m\u001b[0m\n\u001b[1;32m    151\u001b[0m         \u001b[0my\u001b[0m \u001b[0;34m=\u001b[0m \u001b[0mcolumn_or_1d\u001b[0m\u001b[0;34m(\u001b[0m\u001b[0my\u001b[0m\u001b[0;34m,\u001b[0m \u001b[0mwarn\u001b[0m\u001b[0;34m=\u001b[0m\u001b[0;32mTrue\u001b[0m\u001b[0;34m)\u001b[0m\u001b[0;34m\u001b[0m\u001b[0;34m\u001b[0m\u001b[0m\n",
      "\u001b[0;32m/usr/local/lib/python3.11/dist-packages/sklearn/utils/validation.py\u001b[0m in \u001b[0;36mcheck_is_fitted\u001b[0;34m(estimator, attributes, msg, all_or_any)\u001b[0m\n\u001b[1;32m   1754\u001b[0m         \u001b[0;32mreturn\u001b[0m\u001b[0;34m\u001b[0m\u001b[0;34m\u001b[0m\u001b[0m\n\u001b[1;32m   1755\u001b[0m \u001b[0;34m\u001b[0m\u001b[0m\n\u001b[0;32m-> 1756\u001b[0;31m     \u001b[0;32mif\u001b[0m \u001b[0;32mnot\u001b[0m \u001b[0m_is_fitted\u001b[0m\u001b[0;34m(\u001b[0m\u001b[0mestimator\u001b[0m\u001b[0;34m,\u001b[0m \u001b[0mattributes\u001b[0m\u001b[0;34m,\u001b[0m \u001b[0mall_or_any\u001b[0m\u001b[0;34m)\u001b[0m\u001b[0;34m:\u001b[0m\u001b[0;34m\u001b[0m\u001b[0;34m\u001b[0m\u001b[0m\n\u001b[0m\u001b[1;32m   1757\u001b[0m         \u001b[0;32mraise\u001b[0m \u001b[0mNotFittedError\u001b[0m\u001b[0;34m(\u001b[0m\u001b[0mmsg\u001b[0m \u001b[0;34m%\u001b[0m \u001b[0;34m{\u001b[0m\u001b[0;34m\"name\"\u001b[0m\u001b[0;34m:\u001b[0m \u001b[0mtype\u001b[0m\u001b[0;34m(\u001b[0m\u001b[0mestimator\u001b[0m\u001b[0;34m)\u001b[0m\u001b[0;34m.\u001b[0m\u001b[0m__name__\u001b[0m\u001b[0;34m}\u001b[0m\u001b[0;34m)\u001b[0m\u001b[0;34m\u001b[0m\u001b[0;34m\u001b[0m\u001b[0m\n\u001b[1;32m   1758\u001b[0m \u001b[0;34m\u001b[0m\u001b[0m\n",
      "\u001b[0;32m/usr/local/lib/python3.11/dist-packages/sklearn/utils/validation.py\u001b[0m in \u001b[0;36m_is_fitted\u001b[0;34m(estimator, attributes, all_or_any)\u001b[0m\n\u001b[1;32m   1666\u001b[0m \u001b[0;34m\u001b[0m\u001b[0m\n\u001b[1;32m   1667\u001b[0m     fitted_attrs = [\n\u001b[0;32m-> 1668\u001b[0;31m         \u001b[0mv\u001b[0m \u001b[0;32mfor\u001b[0m \u001b[0mv\u001b[0m \u001b[0;32min\u001b[0m \u001b[0mvars\u001b[0m\u001b[0;34m(\u001b[0m\u001b[0mestimator\u001b[0m\u001b[0;34m)\u001b[0m \u001b[0;32mif\u001b[0m \u001b[0mv\u001b[0m\u001b[0;34m.\u001b[0m\u001b[0mendswith\u001b[0m\u001b[0;34m(\u001b[0m\u001b[0;34m\"_\"\u001b[0m\u001b[0;34m)\u001b[0m \u001b[0;32mand\u001b[0m \u001b[0;32mnot\u001b[0m \u001b[0mv\u001b[0m\u001b[0;34m.\u001b[0m\u001b[0mstartswith\u001b[0m\u001b[0;34m(\u001b[0m\u001b[0;34m\"__\"\u001b[0m\u001b[0;34m)\u001b[0m\u001b[0;34m\u001b[0m\u001b[0;34m\u001b[0m\u001b[0m\n\u001b[0m\u001b[1;32m   1669\u001b[0m     ]\n\u001b[1;32m   1670\u001b[0m     \u001b[0;32mreturn\u001b[0m \u001b[0mlen\u001b[0m\u001b[0;34m(\u001b[0m\u001b[0mfitted_attrs\u001b[0m\u001b[0;34m)\u001b[0m \u001b[0;34m>\u001b[0m \u001b[0;36m0\u001b[0m\u001b[0;34m\u001b[0m\u001b[0;34m\u001b[0m\u001b[0m\n",
      "\u001b[0;31mKeyboardInterrupt\u001b[0m: "
     ]
    }
   ],
   "source": [
    "# прогон сохраненной (или нет) модели с full_dataset\n",
    "\n",
    "model = MorseDecoderV4()\n",
    "device = torch.device(\"cuda\" if torch.cuda.is_available() else \"cpu\")\n",
    "\n",
    "start_epoch = 0 # если с снова обучать, то с 0\n",
    "save_model_path = 'save_full_model'\n",
    "if start_epoch != 0:\n",
    "    model.load_state_dict(torch.load(os.path.join(save_model_path, f'model_epoch_{start_epoch}.pth'), map_location=device))\n",
    "\n",
    "blank_label = le.transform(['_']).item()\n",
    "ctc_loss = nn.CTCLoss(blank=blank_label)\n",
    "optimizer = Adam(model.parameters(), lr=1e-6)\n",
    "n_epochs = 30\n",
    "\n",
    "trainer = Trainer(model,\n",
    "                  optimizer=optimizer,\n",
    "                  func_loss=ctc_loss,\n",
    "                  n_epochs=n_epochs,\n",
    "                  device=device, encoder=le,\n",
    "                  model_safe=save_model_path)\n",
    "\n",
    "train_loss, val_loss, train_distance, val_distance = trainer.train(train_loader=full_dataloader, start_epoch=start_epoch)"
   ]
  },
  {
   "cell_type": "markdown",
   "metadata": {
    "id": "y4Xi-26Q-K2n"
   },
   "source": [
    "## Тест и отправка"
   ]
  },
  {
   "cell_type": "markdown",
   "metadata": {
    "id": "1uXRneGRm2co"
   },
   "source": [
    "Тут просто загрузка данных, но последние 17 в отдельном файле, так как они имеют другую размерность. Позже я их порезал, на пару ячеек ниже."
   ]
  },
  {
   "cell_type": "code",
   "execution_count": null,
   "metadata": {
    "id": "sltdjBCa-OAh"
   },
   "outputs": [],
   "source": [
    "mels_test = np.load('test_first_part.npy')\n",
    "mels_test_last = np.load('test_last_part.npy')"
   ]
  },
  {
   "cell_type": "code",
   "execution_count": null,
   "metadata": {
    "id": "sVrp4dGW-TsD"
   },
   "outputs": [],
   "source": [
    "# сначала разберемся с первой частью, потом с ласт 17\n",
    "test_dataset = MorseDataset(mels_test, test_df[:-17], le, test=True)\n",
    "\n",
    "test_dataloader = DataLoader(test_dataset,\n",
    "                             batch_size= 64,\n",
    "                             shuffle=False,\n",
    "                             num_workers=0)"
   ]
  },
  {
   "cell_type": "code",
   "execution_count": null,
   "metadata": {
    "colab": {
     "base_uri": "https://localhost:8080/",
     "height": 49,
     "referenced_widgets": [
      "e6d4f51861144ca2a08305a33f54f457",
      "3e59920b7061442fafd51a01575df302",
      "ab71c97f300a48ad9775e400ec50cd68",
      "9eb8f59ac2d740928fadb4585fcd05e1",
      "05fd1dcdc76b45d9903733020116d4b1",
      "2101596c442548799df0bb92a7e4a223",
      "579c82c679194eb2b43efa83abb119c3",
      "be35a408045b4b40988df1181290a678",
      "a545975cd7384854bebd290b6877f74e",
      "802d7b1adbd14190a31b84cc8a5c96ef",
      "160a408a86124b8f9aaa597167e63d61"
     ]
    },
    "id": "ZtTePzDtAGBQ",
    "outputId": "64f7af59-63a8-49b4-a906-766db5e8942d"
   },
   "outputs": [
    {
     "data": {
      "application/vnd.jupyter.widget-view+json": {
       "model_id": "e6d4f51861144ca2a08305a33f54f457",
       "version_major": 2,
       "version_minor": 0
      },
      "text/plain": [
       "  0%|          | 0/78 [00:00<?, ?it/s]"
      ]
     },
     "metadata": {},
     "output_type": "display_data"
    }
   ],
   "source": [
    "# первая часть тестового датасета\n",
    "device = torch.device(\"cuda\" if torch.cuda.is_available() else \"cpu\")\n",
    "\n",
    "model = MorseDecoderV4()\n",
    "model.load_state_dict(torch.load('best_model_weights.pth', map_location=device))\n",
    "\n",
    "blank_label = le.transform(['_']).item()\n",
    "model.to(device)\n",
    "decoded_test = []\n",
    "\n",
    "model.eval()\n",
    "for batch in tqdm(test_dataloader):\n",
    "    mel_specs = batch\n",
    "    mel_specs = mel_specs.to(device)\n",
    "\n",
    "    with torch.no_grad():\n",
    "        preds = model(mel_specs)\n",
    "\n",
    "        perm_preds = preds.permute(1, 0, 2) # N, L, C -> L, N, C\n",
    "\n",
    "        decoded_preds = decoder(perm_preds, le)\n",
    "        decoded_test += decoded_preds"
   ]
  },
  {
   "cell_type": "markdown",
   "metadata": {
    "id": "BDMcUQ-wvqLx"
   },
   "source": [
    "### Наивное разделение более длинных сигналов"
   ]
  },
  {
   "cell_type": "markdown",
   "metadata": {
    "id": "lMR1n0X5ncgP"
   },
   "source": [
    "Как и сказано, втупую порежем на нужную длину и склеим, но на итоговой отправке я так не делал"
   ]
  },
  {
   "cell_type": "code",
   "execution_count": null,
   "metadata": {
    "id": "O31_VSJVOmI5"
   },
   "outputs": [],
   "source": [
    "# втупую поделим западим и посмотрим на результат\n",
    "def split_arrays_with_padding(arrays, chunk_size=1001, pad_value=0):\n",
    "    chunks = []\n",
    "    for arr in arrays:\n",
    "        padded_arr = np.pad(arr, ((0, 0), (5, 0)), mode='constant', constant_values=0)\n",
    "        for i in range(0, padded_arr.shape[1], chunk_size):\n",
    "            chunk = padded_arr[:, i:i+chunk_size]\n",
    "            chunks.append(from_numpy(chunk))\n",
    "    return chunks\n",
    "\n",
    "chunks = split_arrays_with_padding(mels_test_last)"
   ]
  },
  {
   "cell_type": "code",
   "execution_count": null,
   "metadata": {
    "id": "u4Ro9a8PSplw"
   },
   "outputs": [],
   "source": [
    "decoded_test_last = []\n",
    "\n",
    "model.eval()\n",
    "for i in range(6, len(chunks) + 6, 6):\n",
    "    mel_specs = torch.stack(chunks[i - 6: i])\n",
    "    mel_specs = mel_specs.to(device)\n",
    "\n",
    "    with torch.no_grad():\n",
    "        preds = model(mel_specs)\n",
    "\n",
    "        perm_preds = preds.permute(1, 0, 2) # N, L, C -> L, N, C\n",
    "\n",
    "        decoded_preds = decoder(perm_preds, le)\n",
    "        decoded_test_last.append(decoded_preds)\n",
    "\n",
    "last_seqs = []\n",
    "for list_seq in decoded_test_last:\n",
    "    res_seq = ''.join(list_seq)\n",
    "    last_seqs.append(res_seq)"
   ]
  },
  {
   "cell_type": "code",
   "execution_count": null,
   "metadata": {
    "colab": {
     "base_uri": "https://localhost:8080/"
    },
    "id": "CY4_PHCqgylB",
    "outputId": "652fa413-0063-47da-c4ab-708e5eb6aeda"
   },
   "outputs": [
    {
     "data": {
      "text/plain": [
       "['ДАМИНАМТ ДОТИ РСНМСАУЦИИЕЕЕЕ',\n",
       " 'ИЛ ЬСВЕДТКЧВНТИЯМДМЫМЮНЯМЦ ЮТИЫМ ЬТКИЧМЫН ДТЫНФЦЗ ЕПИГГЕЕ',\n",
       " 'АНХ ВСОЕГЬ Р ВГЕДАМИ НКШМДНИ ГЕКНЖТААЕЕЕ',\n",
       " 'ИЛ ДАСДП ЬСОЕМУНТИ АГВКСОЕП ЬКСХЫСУС ХНУ ЮН ХЕИУСИИЕЕ',\n",
       " 'ЕТЬТКП ДСЯНКМЫНАЦ ИМККЕЕЕЕ',\n",
       " 'КНОЬКМ СОЕНЫМОП ЬСЮНВММЕЕЕЕ',\n",
       " 'ИЛ ЬСОЕНДМЫМ ЙТВНУС ЙЫМЧАТУС ЬКЕДЛХТ ЫМЖАЛШ ДЛУНЕВ  М ЧТЫНАМБЕЕ',\n",
       " 'ИЛ ДАСДП ОСЮПИЫМ НЮЙГРГ ЕТЫТЕАКНЩННЕЕЕ',\n",
       " 'АС АТ ИСЧТИ КГЖНЕПОЦ ЮН НЙГТСЫЗЕАПЗ ДТКАГИЕПЙМИДСЫДДЕЕ',\n",
       " 'ТОЫМ ДЛ ОЫАИХМЕТ #ЕС ЬСОЦЕНАМТ ЕС ЕЕРЫМРАТАЕТОПЕЕ',\n",
       " 'АН ЖНОЕСЕТ ЬТКЕВНЖМ ГДТЫМЖТААСЕ5 АН 75 РМЫСЯГРЫСДДЕЕ',\n",
       " 'ОДЦЮП ЬСВВТКТГМДНТЕОЦ ДКГЖАГЗАТГЕСИМИЛИМ ЬНЫПНИМ АНХМШ СЬТКНЕСКСДЕЕ',\n",
       " 'ОРСКС ИЛ ДАСДПЬСОЕМУАТИ ЕНБАЛ КДРТЕАЛШ ВДМУНЕТЦЕББЕЕ',\n",
       " 'ОИСЧТИ СЕЬКНДЕЕФ ЮН ДНИМ  ОЬНОМЕТЫПАЛБ ЖТЫАСРЕЕЕ',\n",
       " 'ТОЫМ ДЛ ЬСЕПТЫНТЕТ ДТКАГЕПЕВЦ ВСИСБ ННЕЕЕ',\n",
       " 'ОДТЕ ОСЫАЯАИНКМЕ ЧМЮАП РНГИЮСИГЕЕЕ',\n",
       " 'РХАТЯ ЬТКТВНЖМЕЕЕЕЕ']"
      ]
     },
     "execution_count": 41,
     "metadata": {},
     "output_type": "execute_result"
    }
   ],
   "source": [
    "last_seqs"
   ]
  },
  {
   "cell_type": "markdown",
   "metadata": {
    "id": "Eh5-JfRYvxck"
   },
   "source": [
    "### Ручная разметка по пробелам"
   ]
  },
  {
   "cell_type": "markdown",
   "metadata": {
    "id": "vgp-PiYfnqP9"
   },
   "source": [
    "Вроде, никто не запрещал делать ручную разметку теста, ну только последние 17 примеров, понятно. Я их разбил по пробелам (иногда пропускал пробелы, если позволяла длина), а потом падил по последней размерности до 1001 с двух сторон. В целом, это мне не помогло сдать эти примеры правильно)))"
   ]
  },
  {
   "cell_type": "code",
   "execution_count": null,
   "metadata": {
    "colab": {
     "base_uri": "https://localhost:8080/",
     "height": 644
    },
    "id": "KsQe7QRnwlnp",
    "outputId": "0dcddf99-762b-4f7d-aeef-9426e566f310"
   },
   "outputs": [
    {
     "data": {
      "text/plain": [
       "<Axes: >"
      ]
     },
     "execution_count": 5,
     "metadata": {},
     "output_type": "execute_result"
    },
    {
     "data": {
      "image/png": "[encoded data removed]",
      "text/plain": [
       "<Figure size 3000x700 with 2 Axes>"
      ]
     },
     "metadata": {},
     "output_type": "display_data"
    }
   ],
   "source": [
    "# просто пример первого послания из 17, зря я что ль импорт делаю matplotlib и seaborn?\n",
    "test_mel = mels_test_last[0][:, :1400]\n",
    "plt.figure(figsize=(30, 7))\n",
    "sns.heatmap(test_mel, cmap='Greys')"
   ]
  },
  {
   "cell_type": "code",
   "execution_count": null,
   "metadata": {
    "id": "X3nvgUYIAcif"
   },
   "outputs": [],
   "source": [
    "gates = {\n",
    "    0: [0, 528, 803, 1400],\n",
    "    1: [0, 270, 998, 1809, 2160, 2727, 3240, 3500],\n",
    "    2: [0, 252, 792, 1242, 1746, 2196],\n",
    "    3: [0, 550, 1150, 1790, 2450, 3200],\n",
    "    4: [0, 407, 1397],\n",
    "    5: [0, 507, 1090, 1534],\n",
    "    6: [0, 860, 1815, 2755, 3712],\n",
    "    7: [0, 630, 1220, 1750, 2356],\n",
    "    8: [0, 780, 1710, 2595, 3180, 3900],\n",
    "    9: [0, 676, 1300, 2300, 2444, 3380],\n",
    "    10: [0, 702, 1290, 2080, 2480, 3328],\n",
    "    11: [0, 558, 1470, 1984, 2530, 3100, 4030],\n",
    "    12: [0, 1000, 1875, 2450, 3150],\n",
    "    13: [0, 535, 1071, 1470, 2290, 2700],\n",
    "    14: [0, 770, 1452, 2200, 2750],\n",
    "    15: [0, 912, 1748, 2300],\n",
    "    16: [0, 1001],\n",
    "}\n",
    "def gate_split_with_pad(arrays, gates, chunk_size=1001, pad_value=0):\n",
    "    all_chunks = []\n",
    "    for i, gate in gates.items():\n",
    "        chunks = []\n",
    "        for idx in range(1, len(gate)):\n",
    "            new_array = arrays[i, :, gate[idx-1]:gate[idx]]\n",
    "            delta = chunk_size - new_array.shape[1]\n",
    "            new_array = np.pad(new_array, ((0, 0), (delta//2, delta - delta//2)), mode='constant', constant_values=0)\n",
    "            chunks.append(from_numpy(new_array))\n",
    "        all_chunks.append(chunks)\n",
    "    return all_chunks"
   ]
  },
  {
   "cell_type": "code",
   "execution_count": null,
   "metadata": {
    "id": "iYXyRm4rDsTK"
   },
   "outputs": [],
   "source": [
    "padded_mels = gate_split_with_pad(mels_test_last, gates)"
   ]
  },
  {
   "cell_type": "code",
   "execution_count": null,
   "metadata": {
    "collapsed": true,
    "id": "EfuU0NzoEvW1"
   },
   "outputs": [],
   "source": [
    "decoded_test_last = []\n",
    "\n",
    "model.eval()\n",
    "for mel in padded_mels:\n",
    "    mel_specs = torch.stack(mel)\n",
    "    mel_specs = mel_specs.to(device)\n",
    "\n",
    "    with torch.no_grad():\n",
    "        preds = model(mel_specs)\n",
    "\n",
    "        perm_preds = preds.permute(1, 0, 2) # N, L, C -> L, N, C\n",
    "\n",
    "        decoded_preds = decoder(perm_preds, le)\n",
    "        decoded_test_last.append(decoded_preds)\n",
    "\n",
    "last_seqs = []\n",
    "for list_seq in decoded_test_last:\n",
    "    res_seq = ' '.join(list_seq)\n",
    "    last_seqs.append(res_seq)"
   ]
  },
  {
   "cell_type": "markdown",
   "metadata": {
    "id": "riJY3OFcn-Kl"
   },
   "source": [
    "Неприятно, что я написла скрипт для смены точек на тире и тд, но не учел, что 1 ошибка даст мне и далее кучу ошбок, поэтому мой ужас выдал мне что-то на ровне: TTEEETTETETE. Но да, мне помогло, что много раз ИЛ встречается. (вообще я зачем-то во всякие шифры Цезаря полез и тд, но это было не основное задание, так что я просто развлекался)."
   ]
  },
  {
   "cell_type": "code",
   "execution_count": null,
   "metadata": {
    "colab": {
     "base_uri": "https://localhost:8080/"
    },
    "id": "GNIE4o1cp_Nb",
    "outputId": "32ab17b5-cf34-46bd-ccaa-ed69be1ebd0a"
   },
   "outputs": [
    {
     "data": {
      "text/plain": [
       "['БАМИНАМН БОТИ РСЫСАМЦИ',\n",
       " 'И5 ЬСВЕДТКЧВНТИ ЯМДМЫМЮНЯМЦ ЮТИЫМ ЬТЖТЧМЫН ДТЫМРГЗ ЕПИ5',\n",
       " 'АНХ ВСОЕГЬ Р ВКТДАМИ НКШМДНИ ГКНЖТА',\n",
       " 'ИЛ ДАСДП ЬСОЕМУНТИ ИГВКСОЕП ЬКСХЫСУС ХНУ ЮН ХНУСИ',\n",
       " 'ЕТЬТКП ДСЯНКМЫОЦ ИМК',\n",
       " 'КНОЬКМ СОЕНЫМОП ЬСЮНВМ',\n",
       " 'ИЛ ЬСОЕНДМЫМ ЙЫНУС ЙЫМЧАТУС ЬКТДЛХТ ЫМЖАЛШ ДЛУСВ М ЧТЫНАМБ',\n",
       " 'ИЛ ДАСДП ОСЮВНЫМ НЮЙГРГ ЕТЫТУКНЩН',\n",
       " 'АС АТ ИСЧТИ КГЖНЕПОЦ ЮН НЙОСЫЗЕ9З ДТКАСОЕП ОМИДСЫСД',\n",
       " 'ТОЫМ ДЛ ОЫЛХВЕТ #ЕС ЬСОЫНАМТ ЕС СЕРЫМРАМЕТОП',\n",
       " 'АН ЖНОЕСЕТ ЬТКТВНЖМ ГДТЫМЖТААСБ АН 75 РМЫСЯМРЫСД',\n",
       " 'ОДЦЮП ЬСВВТКЧМДНТЕОЦ ДКГЖАГЗ АТГЕСИМИЛИМ ЬНЫПЯНИМ АНХМШ СЬТКНЕСКСД',\n",
       " 'ОРСКС ИЛ ДАСДП ЬСОЕМУАТИ ЕНБАЛ КНРТЕАЛШ ВДМУНЕТЫТБ',\n",
       " 'ОИСЧТИ СЕЬКНДМЕП ЮН ДНИМ ОЬНОМЕТЫПАЛБ ЖТЫАСР',\n",
       " 'ТОЫМ ДЛ ЬСЧТЫНТЕТ ДТКАГЕПОЦ ВСИСБ НН',\n",
       " 'ОДТЕ ОСЫАЯН ВНКМЕ ЧМЮАП РНЧВСИГ',\n",
       " 'РСАТЯ ЬТКТВНЖМ']"
      ]
     },
     "execution_count": 30,
     "metadata": {},
     "output_type": "execute_result"
    }
   ],
   "source": [
    "last_seqs"
   ]
  },
  {
   "cell_type": "markdown",
   "metadata": {
    "id": "LIT0zLGev27W"
   },
   "source": [
    "### Отправка"
   ]
  },
  {
   "cell_type": "code",
   "execution_count": null,
   "metadata": {
    "id": "UIwDlQHwUZFE"
   },
   "outputs": [],
   "source": [
    "# объединяем результаты и отправляем\n",
    "results = decoded_test + last_seqs\n",
    "sub_df = test_df.copy()\n",
    "sub_df['message'] = results\n",
    "\n",
    "sub_df.to_csv('sub.csv', index=False)"
   ]
  },
  {
   "cell_type": "markdown",
   "metadata": {
    "id": "OpyEYn_cozHS"
   },
   "source": [
    "## Тут просто последовательно все нужные модули для отправки результатов, как сверху. Просто все последовательно запускаете и готово. (только файлы загрузите сверху...)"
   ]
  },
  {
   "cell_type": "code",
   "execution_count": 17,
   "metadata": {
    "id": "-jRlpnBjtmIl"
   },
   "outputs": [],
   "source": [
    "import librosa\n",
    "import os\n",
    "\n",
    "# для рисования\n",
    "import matplotlib.pyplot as plt\n",
    "import seaborn as sns\n",
    "\n",
    "# для подсчета расстояния Левенштейна\n",
    "import nltk\n",
    "\n",
    "import pandas as pd\n",
    "import numpy as np\n",
    "from sklearn.preprocessing import LabelEncoder\n",
    "\n",
    "from tqdm.auto import tqdm\n",
    "\n",
    "\n",
    "train_df = pd.read_csv('train.csv')\n",
    "test_df = pd.read_csv('test.csv')\n",
    "\n",
    "alphabet = ['_', 'А', 'Б', 'В', 'Г', 'Д', 'Е', 'Ж', 'З', 'И', 'Й', 'К', 'Л', 'М', 'Н', 'О', 'П', 'Р', 'С', 'Т', 'У', 'Ф', 'Х', 'Ц', 'Ч', 'Ш', 'Щ', 'Ъ', 'Ы', 'Ь', 'Э', 'Ю', 'Я', '0', '1', '2', '3', '4', '5', '6', '7', '8', '9', ' ', '#']\n",
    "\n",
    "# это для декода\n",
    "le = LabelEncoder().fit(alphabet)"
   ]
  },
  {
   "cell_type": "code",
   "execution_count": 18,
   "metadata": {
    "id": "dZWwcgAqto9G"
   },
   "outputs": [],
   "source": [
    "from torch.utils.data import DataLoader, Dataset\n",
    "from torch import from_numpy\n",
    "import torch\n",
    "import torch.nn.functional as F\n",
    "import torch.nn as nn\n",
    "from torch.utils.data import random_split\n",
    "from torch.optim import Adam\n",
    "\n",
    "\n",
    "class MorseDataset(Dataset):\n",
    "    def __init__(self, mels, df, encoder, test=False):\n",
    "        self.mels = mels\n",
    "        self.df = df\n",
    "        self.encoder = encoder\n",
    "        self.test = test\n",
    "\n",
    "    def __len__(self):\n",
    "        return self.df.shape[0]\n",
    "\n",
    "    def __getitem__(self, idx):\n",
    "        if self.test:\n",
    "            return from_numpy(self.mels[idx])\n",
    "        _, label = self.df.loc[idx]\n",
    "        encoded_label = self.encoder.transform([i for i in label])\n",
    "        return from_numpy(self.mels[idx]), encoded_label\n",
    "\n",
    "# тк разные длины у таргета, то stack внутри DataLoader не подходит\n",
    "def collate(batch):\n",
    "    inputs, targets = zip(*batch)\n",
    "\n",
    "    inputs = torch.stack(inputs)\n",
    "\n",
    "    flat_targets = torch.tensor(np.concatenate(targets), dtype=torch.long)\n",
    "    target_lengths = torch.tensor([len(seq) for seq in targets], dtype=torch.long)\n",
    "\n",
    "    return inputs, flat_targets, target_lengths"
   ]
  },
  {
   "cell_type": "code",
   "execution_count": 19,
   "metadata": {
    "id": "v_vQEtoftw6J"
   },
   "outputs": [],
   "source": [
    "import torch.nn.functional as F\n",
    "import torch.nn as nn\n",
    "\n",
    "\n",
    "class MorseDecoderV4(nn.Module):\n",
    "    def __init__(self, alphabet_len=45):\n",
    "        super(MorseDecoderV4, self).__init__()\n",
    "        self.conv_extr0 = nn.Conv2d(1, 64, kernel_size=6, stride=1)\n",
    "        self.bn0 = nn.BatchNorm1d(64)\n",
    "        self.pool0 = nn.MaxPool1d(3)\n",
    "        self.conv_extr = nn.Conv1d(64, 128, kernel_size=5, stride=1, padding=1)\n",
    "        self.conv_pool2 = nn.Conv1d(128, 128, kernel_size=3, stride=2, padding=1)\n",
    "        self.conv_extr2 = nn.Conv1d(128, 128, kernel_size=3, stride=1)\n",
    "        self.bn2 = nn.BatchNorm1d(128)\n",
    "        self.rnn = nn.GRU(128, 128, num_layers=2, batch_first=True, bidirectional=True, dropout=0.1)\n",
    "        self.cls = nn.Linear(256, alphabet_len)\n",
    "\n",
    "    def forward(self, x):\n",
    "        x = x.unsqueeze(1)\n",
    "        # экстракция -> удаление оси + норма -> сжатие -> экстракция -> сжатие -> экстракция + норма\n",
    "        x = self.conv_extr0(x)\n",
    "        x = x.squeeze(dim=2)\n",
    "        x = self.pool0(F.relu(self.bn0(x)))\n",
    "        x = F.relu(self.conv_extr(x))\n",
    "        x = F.relu(self.conv_pool2(x))\n",
    "        x = F.relu(self.bn2(self.conv_extr2(x)))\n",
    "        # подали в rnn\n",
    "        x = x.permute(0, 2, 1) # N, 64, 1, L - > N, L, 64\n",
    "        x, _ = self.rnn(x)\n",
    "        x = self.cls(x)\n",
    "        preds = F.log_softmax(x, -1)\n",
    "        return preds"
   ]
  },
  {
   "cell_type": "code",
   "execution_count": 20,
   "metadata": {
    "id": "CaT9txMht0dT"
   },
   "outputs": [],
   "source": [
    "# декодировка предсказаний\n",
    "def decoder(logits, encoder, blank_index=0): # я не знаю, зачем я бланк отдельно занес в параметры\n",
    "    blank_index = encoder.transform(['_']).item()\n",
    "    predicted_indices = torch.argmax(logits, dim=-1)\n",
    "\n",
    "    decoded_strings = []\n",
    "    for b in range(predicted_indices.size(1)):\n",
    "        indices = predicted_indices[:, b].cpu().detach().numpy()\n",
    "        decoded = []\n",
    "        prev_idx = -1\n",
    "        for idx in indices:\n",
    "            if idx != blank_index and (prev_idx != idx):\n",
    "                decoded.append(encoder.inverse_transform([idx]).item())\n",
    "            prev_idx = idx\n",
    "\n",
    "        decoded_strings.append(''.join(decoded))\n",
    "\n",
    "    return decoded_strings\n",
    "\n",
    "# декодировка таргетов (это, чтобы посмотреть расстояние Левенштейна)\n",
    "def decode_targets(targets, target_lengths, label_encoder):\n",
    "    targets = targets.cpu().detach().numpy()\n",
    "    target_lengths = target_lengths.cpu().detach().numpy()\n",
    "\n",
    "    decoded_strings = []\n",
    "    start_idx = 0\n",
    "    for length in target_lengths:\n",
    "        target = targets[start_idx:start_idx+length]\n",
    "        start_idx += length\n",
    "        decoded = label_encoder.inverse_transform(target)\n",
    "        decoded_strings.append(''.join(decoded))\n",
    "\n",
    "    return decoded_strings"
   ]
  },
  {
   "cell_type": "code",
   "execution_count": 21,
   "metadata": {
    "id": "Q-Kbvc_yt4PP"
   },
   "outputs": [],
   "source": [
    "class Trainer:\n",
    "    def __init__(self, model, optimizer, func_loss, n_epochs, device, encoder, model_safe=None):\n",
    "        self.model = model\n",
    "        self.optimizer = optimizer\n",
    "        self.func_loss = func_loss\n",
    "        self.device = device\n",
    "        self.n_epochs = n_epochs\n",
    "        self.encoder = encoder\n",
    "        self.model_safe = model_safe\n",
    "\n",
    "    def train(self, train_loader, val_loader=None, schedule=None, start_epoch=0, save_step=5):\n",
    "        self.model.to(self.device)\n",
    "        train_loss = []\n",
    "        val_loss = []\n",
    "        train_distance = []\n",
    "        val_distance = []\n",
    "\n",
    "        for epoch in range(start_epoch, self.n_epochs + start_epoch):\n",
    "            self.model.train()\n",
    "            epoch_train_loss = 0\n",
    "            epoch_distance = 0\n",
    "\n",
    "            for batch in tqdm(train_loader, desc=f'Epoch: {epoch + 1}'):\n",
    "                mel_specs, targets, tar_lens = batch\n",
    "                mel_specs = mel_specs.to(self.device)\n",
    "                targets = targets.to(self.device)\n",
    "                tar_lens = tar_lens.to(self.device)\n",
    "\n",
    "                self.optimizer.zero_grad()\n",
    "\n",
    "                preds = self.model(mel_specs)\n",
    "\n",
    "                perm_preds = preds.permute(1, 0, 2) # N, L, C -> L, N, C\n",
    "                pred_lens = torch.full(size=(perm_preds.size(1),),\n",
    "                                           fill_value=perm_preds.size(0),\n",
    "                                           dtype=torch.long,\n",
    "                                           device=self.device)\n",
    "                # после всех переразмеров можем и loss посчитать\n",
    "                loss = self.func_loss(perm_preds, targets, pred_lens, tar_lens)\n",
    "                loss.backward()\n",
    "\n",
    "                self.optimizer.step()\n",
    "\n",
    "                # декодируем наше чудо\n",
    "                decoded_preds = decoder(perm_preds, self.encoder) # получаем список строк предсказаний\n",
    "                decoded_targets = decode_targets(targets, tar_lens, self.encoder) # получаем список строк таргетов\n",
    "                epoch_distance += nltk.edit_distance(decoded_preds, decoded_targets) # считаем расстояние\n",
    "                # тут кншн ошибка, что я буду брать для эпохи среднее по средним для loss, мб это стоило исправить\n",
    "                epoch_train_loss += loss.item()\n",
    "\n",
    "\n",
    "            # считаем среднее расстояние на эпохе и средний от среднего лосс\n",
    "            train_distance.append(epoch_distance / len(train_loader.dataset)) # тут делим на длину датасета, тк считаем отдельно для каждого примера\n",
    "            train_loss.append(epoch_train_loss / len(train_loader))\n",
    "\n",
    "            if val_loader is not None:\n",
    "                epoch_val_loss, epoch_val_distance = self.evaluate(val_loader)\n",
    "                val_loss.append(epoch_val_loss)\n",
    "                val_distance.append(epoch_val_distance)\n",
    "\n",
    "                # выводим наши метрики\n",
    "                print(f\"Training Loss: {train_loss[-1]:.4f}, \"\n",
    "                    f\"Training Dist: {train_distance[-1]:.6f}, \"\n",
    "                    f\"Val loss: {val_loss[-1]:.4f}, \"\n",
    "                    f\"Val Dist: {val_distance[-1]:.6f}\")\n",
    "            else:\n",
    "                # выводим наши метрики без валидации, если ее нет\n",
    "                print(f\"Training Loss: {train_loss[-1]:.4f}, \"\n",
    "                    f\"Training Dist: {train_distance[-1]:.6f}\")\n",
    "\n",
    "            # сохраняем модельку\n",
    "            if (epoch + 1) % save_step == 0:\n",
    "                torch.save(self.model.state_dict(), os.path.join(self.model_safe, f'model_epoch_{epoch + 1}.pth'))\n",
    "\n",
    "        return train_loss, val_loss, train_distance, val_distance\n",
    "\n",
    "    def evaluate(self, val_loader):\n",
    "        self.model.eval()\n",
    "        loss = 0\n",
    "        distance = 0\n",
    "        for batch in tqdm(val_loader):\n",
    "            mel_specs, targets, tar_lens = batch\n",
    "            mel_specs = mel_specs.to(self.device)\n",
    "            targets = targets.to(self.device)\n",
    "            tar_lens = tar_lens.to(self.device)\n",
    "\n",
    "            with torch.no_grad():\n",
    "                preds = self.model(mel_specs)\n",
    "\n",
    "                perm_preds = preds.permute(1, 0, 2) # N, L, C -> L, N, C\n",
    "                pred_lens = torch.full(size=(perm_preds.size(1),),\n",
    "                                            fill_value=perm_preds.size(0),\n",
    "                                            dtype=torch.long,\n",
    "                                            device=self.device)\n",
    "                loss += self.func_loss(perm_preds, targets, pred_lens, tar_lens).item()\n",
    "\n",
    "            decoded_preds = decoder(perm_preds, self.encoder)\n",
    "            decoded_targets = decode_targets(targets, tar_lens, self.encoder)\n",
    "            distance += nltk.edit_distance(decoded_preds, decoded_targets)\n",
    "\n",
    "        return loss/len(val_loader), distance/len(val_loader.dataset)"
   ]
  },
  {
   "cell_type": "code",
   "execution_count": 22,
   "metadata": {
    "id": "2Hi7CmUfuNJN"
   },
   "outputs": [],
   "source": [
    "gates = {\n",
    "    0: [0, 528, 803, 1400],\n",
    "    1: [0, 270, 998, 1809, 2160, 2727, 3240, 3500],\n",
    "    2: [0, 252, 792, 1242, 1746, 2196],\n",
    "    3: [0, 550, 1150, 1790, 2450, 3200],\n",
    "    4: [0, 407, 1397],\n",
    "    5: [0, 507, 1090, 1534],\n",
    "    6: [0, 860, 1815, 2755, 3712],\n",
    "    7: [0, 630, 1220, 1750, 2356],\n",
    "    8: [0, 780, 1710, 2595, 3180, 3900],\n",
    "    9: [0, 676, 1300, 2300, 2444, 3380],\n",
    "    10: [0, 702, 1290, 2080, 2480, 3328],\n",
    "    11: [0, 558, 1470, 1984, 2530, 3100, 4030],\n",
    "    12: [0, 1000, 1875, 2450, 3150],\n",
    "    13: [0, 535, 1071, 1470, 2290, 2700],\n",
    "    14: [0, 770, 1452, 2200, 2750],\n",
    "    15: [0, 912, 1748, 2300],\n",
    "    16: [0, 1001],\n",
    "}\n",
    "def gate_split_with_pad(arrays, gates, chunk_size=1001, pad_value=0):\n",
    "    all_chunks = []\n",
    "    for i, gate in gates.items():\n",
    "        chunks = []\n",
    "        for idx in range(1, len(gate)):\n",
    "            new_array = arrays[i, :, gate[idx-1]:gate[idx]]\n",
    "            delta = chunk_size - new_array.shape[1]\n",
    "            new_array = np.pad(new_array, ((0, 0), (delta//2, delta - delta//2)), mode='constant', constant_values=0)\n",
    "            chunks.append(from_numpy(new_array))\n",
    "        all_chunks.append(chunks)\n",
    "    return all_chunks"
   ]
  },
  {
   "cell_type": "code",
   "execution_count": 23,
   "metadata": {
    "id": "8Cq2pm5it_ZP"
   },
   "outputs": [],
   "source": [
    "mels_test = np.load('test_first_part.npy')\n",
    "mels_test_last = np.load('test_last_part.npy')"
   ]
  },
  {
   "cell_type": "code",
   "execution_count": 24,
   "metadata": {
    "id": "gE7NyN75uC44"
   },
   "outputs": [],
   "source": [
    "# сначала разберемся с первой частью, потом с ласт 17\n",
    "test_dataset = MorseDataset(mels_test, test_df[:-17], le, test=True)\n",
    "\n",
    "test_dataloader = DataLoader(test_dataset,\n",
    "                             batch_size= 64,\n",
    "                             shuffle=False,\n",
    "                             num_workers=0)"
   ]
  },
  {
   "cell_type": "code",
   "execution_count": 26,
   "metadata": {
    "colab": {
     "base_uri": "https://localhost:8080/",
     "height": 49,
     "referenced_widgets": [
      "28fcfb3f213f4bbe8e58a8dff3373003",
      "b10700d39a9b40b69f48d596de7337e8",
      "468243d0661a482eaf9d96870896d10e",
      "8ca23dcf31d0443fae139631869ac989",
      "b7d70d2f8b2b41f5a05022862901fff1",
      "8a3c11d8b9254367ad9aa6e056fb0047",
      "5d2f033ea1ac45d19ffcf00996f4cfb1",
      "916ab287724447aeaa42d20728bc7c0f",
      "68451c1d098441f88d0653a492a483c3",
      "f7bba2404a314a78bc22f5ddd0b74dfa",
      "b4dfcc6afbb843638935b6311260a5dd"
     ]
    },
    "id": "uSyzCiiuuGny",
    "outputId": "715e6f8a-d02a-464b-abed-c019a1433c25"
   },
   "outputs": [
    {
     "data": {
      "application/vnd.jupyter.widget-view+json": {
       "model_id": "28fcfb3f213f4bbe8e58a8dff3373003",
       "version_major": 2,
       "version_minor": 0
      },
      "text/plain": [
       "  0%|          | 0/78 [00:00<?, ?it/s]"
      ]
     },
     "metadata": {},
     "output_type": "display_data"
    }
   ],
   "source": [
    "# первая часть тестового датасета\n",
    "device = torch.device(\"cuda\" if torch.cuda.is_available() else \"cpu\")\n",
    "\n",
    "model = MorseDecoderV4()\n",
    "model.load_state_dict(torch.load('best_model_weights.pth', map_location=device))\n",
    "\n",
    "blank_label = le.transform(['_']).item()\n",
    "model.to(device)\n",
    "decoded_test = []\n",
    "\n",
    "model.eval()\n",
    "for batch in tqdm(test_dataloader):\n",
    "    mel_specs = batch\n",
    "    mel_specs = mel_specs.to(device)\n",
    "\n",
    "    with torch.no_grad():\n",
    "        preds = model(mel_specs)\n",
    "\n",
    "        perm_preds = preds.permute(1, 0, 2) # N, L, C -> L, N, C\n",
    "\n",
    "        decoded_preds = decoder(perm_preds, le)\n",
    "        decoded_test += decoded_preds"
   ]
  },
  {
   "cell_type": "code",
   "execution_count": 27,
   "metadata": {
    "id": "W-f5mR5quUXo"
   },
   "outputs": [],
   "source": [
    "# вторая часть\n",
    "padded_mels = gate_split_with_pad(mels_test_last, gates)\n",
    "decoded_test_last = []\n",
    "\n",
    "model.eval()\n",
    "for mel in padded_mels:\n",
    "    mel_specs = torch.stack(mel)\n",
    "    mel_specs = mel_specs.to(device)\n",
    "\n",
    "    with torch.no_grad():\n",
    "        preds = model(mel_specs)\n",
    "\n",
    "        perm_preds = preds.permute(1, 0, 2) # N, L, C -> L, N, C\n",
    "\n",
    "        decoded_preds = decoder(perm_preds, le)\n",
    "        decoded_test_last.append(decoded_preds)\n",
    "\n",
    "last_seqs = []\n",
    "for list_seq in decoded_test_last:\n",
    "    res_seq = ' '.join(list_seq)\n",
    "    last_seqs.append(res_seq)"
   ]
  },
  {
   "cell_type": "code",
   "execution_count": 28,
   "metadata": {
    "id": "Jnr6HbzJu8X_"
   },
   "outputs": [],
   "source": [
    "# объединяем результаты и отправляем\n",
    "results = decoded_test + last_seqs\n",
    "sub_df = test_df.copy()\n",
    "sub_df['message'] = results\n",
    "\n",
    "sub_df.to_csv('sub.csv', index=False)"
   ]
  },
  {
   "cell_type": "code",
   "execution_count": 35,
   "metadata": {
    "colab": {
     "base_uri": "https://localhost:8080/"
    },
    "id": "Qh50VrJN_9V8",
    "outputId": "5ef83d8b-c271-4ce9-9e1f-529bff535dcf"
   },
   "outputs": [
    {
     "name": "stdout",
     "output_type": "stream",
     "text": [
      "УРА Я НИКОГО НЕ ОБМАНУЛ\n"
     ]
    }
   ],
   "source": [
    "# я проверил, что у вас совпадет для себя (повторил эксперимент)\n",
    "\n",
    "sub_kaggle = pd.read_csv('sub_kaggle.csv')\n",
    "if (sub_df == sub_kaggle)['message'].sum().item() == 5000:\n",
    "    print('УРА Я НИКОГО НЕ ОБМАНУЛ')"
   ]
  }
 ],
 "metadata": {
  "colab": {
   "collapsed_sections": [
    "XM_5FteAUwcR",
    "aFpOY24Xf9bj",
    "yLqWBva2B8Xn",
    "3vp6LSKj9wzJ",
    "uyktI2Q0Xpbz",
    "6Mf-7gfzXyjO",
    "y4Xi-26Q-K2n",
    "OpyEYn_cozHS"
   ],
   "provenance": []
  },
  "kernelspec": {
   "display_name": "Python 3 (ipykernel)",
   "language": "python",
   "name": "python3"
  },
  "language_info": {
   "codemirror_mode": {
    "name": "ipython",
    "version": 3
   },
   "file_extension": ".py",
   "mimetype": "text/x-python",
   "name": "python",
   "nbconvert_exporter": "python",
   "pygments_lexer": "ipython3",
   "version": "3.9.13"
  }
 },
 "nbformat": 4,
 "nbformat_minor": 1
}
